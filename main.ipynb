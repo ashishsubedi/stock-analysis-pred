{
  "nbformat": 4,
  "nbformat_minor": 0,
  "metadata": {
    "language_info": {
      "codemirror_mode": {
        "name": "ipython",
        "version": 3
      },
      "file_extension": ".py",
      "mimetype": "text/x-python",
      "name": "python",
      "nbconvert_exporter": "python",
      "pygments_lexer": "ipython3",
      "version": "3.9.1-final"
    },
    "orig_nbformat": 2,
    "kernelspec": {
      "name": "python3",
      "display_name": "Python 3.9.1 64-bit ('venv')",
      "metadata": {
        "interpreter": {
          "hash": "2de29d69f9442a9a0ad469889298d7c62f28f67ae7aa30b13bf2e0c902ec3e8d"
        }
      }
    },
    "colab": {
      "name": "main.ipynb",
      "provenance": [],
      "collapsed_sections": [],
      "include_colab_link": true
    },
    "accelerator": "GPU"
  },
  "cells": [
    {
      "cell_type": "markdown",
      "metadata": {
        "id": "view-in-github",
        "colab_type": "text"
      },
      "source": [
        "<a href=\"https://colab.research.google.com/github/ashishsubedi/stock-analysis-pred/blob/main/main.ipynb\" target=\"_parent\"><img src=\"https://colab.research.google.com/assets/colab-badge.svg\" alt=\"Open In Colab\"/></a>"
      ]
    },
    {
      "cell_type": "code",
      "metadata": {
        "id": "yudUjRoSm0pK"
      },
      "source": [
        "import numpy as np\n",
        "import pandas as pd\n",
        "import matplotlib.pyplot as plt \n",
        "import plotly.express as px\n",
        "import plotly.graph_objects as go\n",
        "from IPython.display import display"
      ],
      "execution_count": 387,
      "outputs": []
    },
    {
      "cell_type": "code",
      "metadata": {
        "id": "0RFUHo_qns59"
      },
      "source": [
        "# from google.colab import files\n",
        "\n",
        "# uploaded = files.upload()"
      ],
      "execution_count": 388,
      "outputs": []
    },
    {
      "cell_type": "code",
      "metadata": {
        "id": "9TGUg0mKm0pY"
      },
      "source": [
        "file_names = ['nic.csv']\n",
        "df_list = []\n",
        "closed_df_list = []"
      ],
      "execution_count": 389,
      "outputs": []
    },
    {
      "cell_type": "code",
      "metadata": {
        "id": "0-ViAZ0Xm0pf"
      },
      "source": [
        "for f in file_names:\n",
        "    name = f.split(sep='.')[0]\n",
        "    df = pd.read_csv(f,index_col=0)\n",
        "    # df = df[::-1]\n",
        "    df.reset_index(drop=True,inplace=True)\n",
        "    df['Date'] = pd.to_datetime(df['Date'])\n",
        "    df_list.append((name,df))"
      ],
      "execution_count": 390,
      "outputs": []
    },
    {
      "cell_type": "code",
      "metadata": {
        "colab": {
          "base_uri": "https://localhost:8080/",
          "height": 224
        },
        "id": "LSa_Zw2em0pm",
        "outputId": "85b76ef8-d544-4cdd-a86d-b15a515a5034"
      },
      "source": [
        "for name,df in df_list:\n",
        "    print(name)\n",
        "    display(df.head())"
      ],
      "execution_count": 391,
      "outputs": [
        {
          "output_type": "stream",
          "text": [
            "nic\n"
          ],
          "name": "stdout"
        },
        {
          "output_type": "display_data",
          "data": {
            "text/html": [
              "<div>\n",
              "<style scoped>\n",
              "    .dataframe tbody tr th:only-of-type {\n",
              "        vertical-align: middle;\n",
              "    }\n",
              "\n",
              "    .dataframe tbody tr th {\n",
              "        vertical-align: top;\n",
              "    }\n",
              "\n",
              "    .dataframe thead th {\n",
              "        text-align: right;\n",
              "    }\n",
              "</style>\n",
              "<table border=\"1\" class=\"dataframe\">\n",
              "  <thead>\n",
              "    <tr style=\"text-align: right;\">\n",
              "      <th></th>\n",
              "      <th>Date</th>\n",
              "      <th>Total Transactions</th>\n",
              "      <th>Total Traded Shares</th>\n",
              "      <th>Total Traded Amount</th>\n",
              "      <th>Max. Price</th>\n",
              "      <th>Min. Price</th>\n",
              "      <th>Close Price</th>\n",
              "    </tr>\n",
              "  </thead>\n",
              "  <tbody>\n",
              "    <tr>\n",
              "      <th>0</th>\n",
              "      <td>2019-01-01</td>\n",
              "      <td>30</td>\n",
              "      <td>7155</td>\n",
              "      <td>2707400</td>\n",
              "      <td>383</td>\n",
              "      <td>377</td>\n",
              "      <td>380</td>\n",
              "    </tr>\n",
              "    <tr>\n",
              "      <th>1</th>\n",
              "      <td>2019-01-02</td>\n",
              "      <td>43</td>\n",
              "      <td>19408</td>\n",
              "      <td>7370888</td>\n",
              "      <td>382</td>\n",
              "      <td>378</td>\n",
              "      <td>382</td>\n",
              "    </tr>\n",
              "    <tr>\n",
              "      <th>2</th>\n",
              "      <td>2019-01-03</td>\n",
              "      <td>44</td>\n",
              "      <td>8316</td>\n",
              "      <td>3179485</td>\n",
              "      <td>385</td>\n",
              "      <td>381</td>\n",
              "      <td>383</td>\n",
              "    </tr>\n",
              "    <tr>\n",
              "      <th>3</th>\n",
              "      <td>2019-01-06</td>\n",
              "      <td>48</td>\n",
              "      <td>9575</td>\n",
              "      <td>3631962</td>\n",
              "      <td>383</td>\n",
              "      <td>377</td>\n",
              "      <td>377</td>\n",
              "    </tr>\n",
              "    <tr>\n",
              "      <th>4</th>\n",
              "      <td>2019-01-07</td>\n",
              "      <td>45</td>\n",
              "      <td>17398</td>\n",
              "      <td>6606274</td>\n",
              "      <td>383</td>\n",
              "      <td>377</td>\n",
              "      <td>379</td>\n",
              "    </tr>\n",
              "  </tbody>\n",
              "</table>\n",
              "</div>"
            ],
            "text/plain": [
              "        Date  Total Transactions  ...  Min. Price  Close Price\n",
              "0 2019-01-01                  30  ...         377          380\n",
              "1 2019-01-02                  43  ...         378          382\n",
              "2 2019-01-03                  44  ...         381          383\n",
              "3 2019-01-06                  48  ...         377          377\n",
              "4 2019-01-07                  45  ...         377          379\n",
              "\n",
              "[5 rows x 7 columns]"
            ]
          },
          "metadata": {
            "tags": []
          }
        }
      ]
    },
    {
      "cell_type": "code",
      "metadata": {
        "colab": {
          "base_uri": "https://localhost:8080/",
          "height": 206
        },
        "id": "KopHGC29tEf2",
        "outputId": "ac78e8b9-4225-47b8-d811-f1dc8f1da9b4"
      },
      "source": [
        "df.tail()"
      ],
      "execution_count": 392,
      "outputs": [
        {
          "output_type": "execute_result",
          "data": {
            "text/html": [
              "<div>\n",
              "<style scoped>\n",
              "    .dataframe tbody tr th:only-of-type {\n",
              "        vertical-align: middle;\n",
              "    }\n",
              "\n",
              "    .dataframe tbody tr th {\n",
              "        vertical-align: top;\n",
              "    }\n",
              "\n",
              "    .dataframe thead th {\n",
              "        text-align: right;\n",
              "    }\n",
              "</style>\n",
              "<table border=\"1\" class=\"dataframe\">\n",
              "  <thead>\n",
              "    <tr style=\"text-align: right;\">\n",
              "      <th></th>\n",
              "      <th>Date</th>\n",
              "      <th>Total Transactions</th>\n",
              "      <th>Total Traded Shares</th>\n",
              "      <th>Total Traded Amount</th>\n",
              "      <th>Max. Price</th>\n",
              "      <th>Min. Price</th>\n",
              "      <th>Close Price</th>\n",
              "    </tr>\n",
              "  </thead>\n",
              "  <tbody>\n",
              "    <tr>\n",
              "      <th>435</th>\n",
              "      <td>2021-01-10</td>\n",
              "      <td>981</td>\n",
              "      <td>194033</td>\n",
              "      <td>179425191</td>\n",
              "      <td>935</td>\n",
              "      <td>910</td>\n",
              "      <td>927</td>\n",
              "    </tr>\n",
              "    <tr>\n",
              "      <th>436</th>\n",
              "      <td>2021-01-11</td>\n",
              "      <td>707</td>\n",
              "      <td>176512</td>\n",
              "      <td>163009521</td>\n",
              "      <td>963</td>\n",
              "      <td>912</td>\n",
              "      <td>915</td>\n",
              "    </tr>\n",
              "    <tr>\n",
              "      <th>437</th>\n",
              "      <td>2021-01-12</td>\n",
              "      <td>564</td>\n",
              "      <td>135414</td>\n",
              "      <td>123833420</td>\n",
              "      <td>950</td>\n",
              "      <td>907</td>\n",
              "      <td>918</td>\n",
              "    </tr>\n",
              "    <tr>\n",
              "      <th>438</th>\n",
              "      <td>2021-01-13</td>\n",
              "      <td>595</td>\n",
              "      <td>174132</td>\n",
              "      <td>159386980</td>\n",
              "      <td>936</td>\n",
              "      <td>907</td>\n",
              "      <td>912</td>\n",
              "    </tr>\n",
              "    <tr>\n",
              "      <th>439</th>\n",
              "      <td>2021-01-17</td>\n",
              "      <td>989</td>\n",
              "      <td>254035</td>\n",
              "      <td>229024879</td>\n",
              "      <td>925</td>\n",
              "      <td>896</td>\n",
              "      <td>901</td>\n",
              "    </tr>\n",
              "  </tbody>\n",
              "</table>\n",
              "</div>"
            ],
            "text/plain": [
              "          Date  Total Transactions  ...  Min. Price  Close Price\n",
              "435 2021-01-10                 981  ...         910          927\n",
              "436 2021-01-11                 707  ...         912          915\n",
              "437 2021-01-12                 564  ...         907          918\n",
              "438 2021-01-13                 595  ...         907          912\n",
              "439 2021-01-17                 989  ...         896          901\n",
              "\n",
              "[5 rows x 7 columns]"
            ]
          },
          "metadata": {
            "tags": []
          },
          "execution_count": 392
        }
      ]
    },
    {
      "cell_type": "code",
      "metadata": {
        "colab": {
          "base_uri": "https://localhost:8080/",
          "height": 224
        },
        "id": "tImYS-xLm0ps",
        "outputId": "821437ba-222f-4c09-db78-6d8cec46abdc"
      },
      "source": [
        "for name,df in df_list:\n",
        "    \n",
        "    closed_price_df = df[['Date','Close Price']]\n",
        "    closed_df_list.append((name,closed_price_df))\n",
        "    print(name)\n",
        "    display(closed_price_df.head())"
      ],
      "execution_count": 393,
      "outputs": [
        {
          "output_type": "stream",
          "text": [
            "nic\n"
          ],
          "name": "stdout"
        },
        {
          "output_type": "display_data",
          "data": {
            "text/html": [
              "<div>\n",
              "<style scoped>\n",
              "    .dataframe tbody tr th:only-of-type {\n",
              "        vertical-align: middle;\n",
              "    }\n",
              "\n",
              "    .dataframe tbody tr th {\n",
              "        vertical-align: top;\n",
              "    }\n",
              "\n",
              "    .dataframe thead th {\n",
              "        text-align: right;\n",
              "    }\n",
              "</style>\n",
              "<table border=\"1\" class=\"dataframe\">\n",
              "  <thead>\n",
              "    <tr style=\"text-align: right;\">\n",
              "      <th></th>\n",
              "      <th>Date</th>\n",
              "      <th>Close Price</th>\n",
              "    </tr>\n",
              "  </thead>\n",
              "  <tbody>\n",
              "    <tr>\n",
              "      <th>0</th>\n",
              "      <td>2019-01-01</td>\n",
              "      <td>380</td>\n",
              "    </tr>\n",
              "    <tr>\n",
              "      <th>1</th>\n",
              "      <td>2019-01-02</td>\n",
              "      <td>382</td>\n",
              "    </tr>\n",
              "    <tr>\n",
              "      <th>2</th>\n",
              "      <td>2019-01-03</td>\n",
              "      <td>383</td>\n",
              "    </tr>\n",
              "    <tr>\n",
              "      <th>3</th>\n",
              "      <td>2019-01-06</td>\n",
              "      <td>377</td>\n",
              "    </tr>\n",
              "    <tr>\n",
              "      <th>4</th>\n",
              "      <td>2019-01-07</td>\n",
              "      <td>379</td>\n",
              "    </tr>\n",
              "  </tbody>\n",
              "</table>\n",
              "</div>"
            ],
            "text/plain": [
              "        Date  Close Price\n",
              "0 2019-01-01          380\n",
              "1 2019-01-02          382\n",
              "2 2019-01-03          383\n",
              "3 2019-01-06          377\n",
              "4 2019-01-07          379"
            ]
          },
          "metadata": {
            "tags": []
          }
        }
      ]
    },
    {
      "cell_type": "code",
      "metadata": {
        "colab": {
          "base_uri": "https://localhost:8080/",
          "height": 295
        },
        "id": "L7Ih45enm0pu",
        "outputId": "4c3d5109-05e7-4fb1-bbac-3f5821a7b7de"
      },
      "source": [
        "for name,df in closed_df_list:\n",
        "    \n",
        "    plt.plot(df['Date'],df['Close Price'],label=name)\n",
        "    \n",
        "plt.title('Comparing different Prices')\n",
        "plt.xlabel(\"Date\")\n",
        "plt.legend()\n",
        "plt.ylabel(\"Closing Price\")\n",
        "\n",
        "plt.show()"
      ],
      "execution_count": 394,
      "outputs": [
        {
          "output_type": "display_data",
          "data": {
            "image/png": "[encoded data removed]",
            "text/plain": [
              "<Figure size 432x288 with 1 Axes>"
            ]
          },
          "metadata": {
            "tags": [],
            "needs_background": "light"
          }
        }
      ]
    },
    {
      "cell_type": "code",
      "metadata": {
        "colab": {
          "base_uri": "https://localhost:8080/",
          "height": 542
        },
        "id": "nnxtoSfrm0pw",
        "outputId": "4ee5da41-2cbf-44a8-fe79-0f592cc6b47d"
      },
      "source": [
        "fig = go.Figure()\n",
        "for name,df in closed_df_list:\n",
        "    fig = fig.add_trace(go.Scatter(x=df['Date'],y=df['Close Price'],name=name))\n",
        "fig.show()"
      ],
      "execution_count": 395,
      "outputs": [
        {
          "output_type": "display_data",
          "data": {
            "text/html": [
              "<html>\n",
              "<head><meta charset=\"utf-8\" /></head>\n",
              "<body>\n",
              "    <div>\n",
              "            <script src=\"https://cdnjs.cloudflare.com/ajax/libs/mathjax/2.7.5/MathJax.js?config=TeX-AMS-MML_SVG\"></script><script type=\"text/javascript\">if (window.MathJax) {MathJax.Hub.Config({SVG: {font: \"STIX-Web\"}});}</script>\n",
              "                <script type=\"text/javascript\">window.PlotlyConfig = {MathJaxConfig: 'local'};</script>\n",
              "        <script src=\"https://cdn.plot.ly/plotly-latest.min.js\"></script>    \n",
              "            <div id=\"f1eeb5c6-4411-4a01-8e2e-ec2440afbead\" class=\"plotly-graph-div\" style=\"height:525px; width:100%;\"></div>\n",
              "            <script type=\"text/javascript\">\n",
              "                \n",
              "                    window.PLOTLYENV=window.PLOTLYENV || {};\n",
              "                    \n",
              "                if (document.getElementById(\"f1eeb5c6-4411-4a01-8e2e-ec2440afbead\")) {\n",
              "                    Plotly.newPlot(\n",
              "                        'f1eeb5c6-4411-4a01-8e2e-ec2440afbead',\n",
              "                        [{\"name\": \"nic\", \"type\": \"scatter\", \"x\": [\"2019-01-01T00:00:00\", \"2019-01-02T00:00:00\", \"2019-01-03T00:00:00\", \"2019-01-06T00:00:00\", \"2019-01-07T00:00:00\", \"2019-01-08T00:00:00\", \"2019-01-09T00:00:00\", \"2019-01-10T00:00:00\", \"2019-01-13T00:00:00\", \"2019-01-14T00:00:00\", \"2019-01-15T00:00:00\", \"2019-01-16T00:00:00\", \"2019-01-17T00:00:00\", \"2019-01-20T00:00:00\", \"2019-01-21T00:00:00\", \"2019-01-22T00:00:00\", \"2019-01-23T00:00:00\", \"2019-01-24T00:00:00\", \"2019-01-27T00:00:00\", \"2019-01-28T00:00:00\", \"2019-01-29T00:00:00\", \"2019-01-30T00:00:00\", \"2019-01-31T00:00:00\", \"2019-02-03T00:00:00\", \"2019-02-04T00:00:00\", \"2019-02-05T00:00:00\", \"2019-02-06T00:00:00\", \"2019-02-07T00:00:00\", \"2019-02-10T00:00:00\", \"2019-02-11T00:00:00\", \"2019-02-12T00:00:00\", \"2019-02-13T00:00:00\", \"2019-02-14T00:00:00\", \"2019-02-17T00:00:00\", \"2019-02-18T00:00:00\", \"2019-02-19T00:00:00\", \"2019-02-20T00:00:00\", \"2019-02-21T00:00:00\", \"2019-02-24T00:00:00\", \"2019-02-25T00:00:00\", \"2019-02-26T00:00:00\", \"2019-02-27T00:00:00\", \"2019-03-03T00:00:00\", \"2019-03-05T00:00:00\", \"2019-03-06T00:00:00\", \"2019-03-07T00:00:00\", \"2019-03-10T00:00:00\", \"2019-03-11T00:00:00\", \"2019-03-12T00:00:00\", \"2019-03-13T00:00:00\", \"2019-03-14T00:00:00\", \"2019-03-17T00:00:00\", \"2019-03-18T00:00:00\", \"2019-03-19T00:00:00\", \"2019-03-21T00:00:00\", \"2019-03-24T00:00:00\", \"2019-03-25T00:00:00\", \"2019-03-26T00:00:00\", \"2019-03-27T00:00:00\", \"2019-03-28T00:00:00\", \"2019-03-31T00:00:00\", \"2019-04-01T00:00:00\", \"2019-04-02T00:00:00\", \"2019-04-03T00:00:00\", \"2019-04-04T00:00:00\", \"2019-04-07T00:00:00\", \"2019-04-08T00:00:00\", \"2019-04-09T00:00:00\", \"2019-04-10T00:00:00\", \"2019-04-11T00:00:00\", \"2019-04-15T00:00:00\", \"2019-04-16T00:00:00\", \"2019-04-17T00:00:00\", \"2019-04-18T00:00:00\", \"2019-04-21T00:00:00\", \"2019-04-22T00:00:00\", \"2019-04-23T00:00:00\", \"2019-04-24T00:00:00\", \"2019-04-25T00:00:00\", \"2019-04-28T00:00:00\", \"2019-04-29T00:00:00\", \"2019-04-30T00:00:00\", \"2019-05-02T00:00:00\", \"2019-05-05T00:00:00\", \"2019-05-06T00:00:00\", \"2019-05-07T00:00:00\", \"2019-05-08T00:00:00\", \"2019-05-09T00:00:00\", \"2019-05-12T00:00:00\", \"2019-05-13T00:00:00\", \"2019-05-14T00:00:00\", \"2019-05-15T00:00:00\", \"2019-05-16T00:00:00\", \"2019-05-19T00:00:00\", \"2019-05-20T00:00:00\", \"2019-05-21T00:00:00\", \"2019-05-22T00:00:00\", \"2019-05-23T00:00:00\", \"2019-05-26T00:00:00\", \"2019-05-27T00:00:00\", \"2019-05-28T00:00:00\", \"2019-05-29T00:00:00\", \"2019-05-30T00:00:00\", \"2019-06-02T00:00:00\", \"2019-06-03T00:00:00\", \"2019-06-04T00:00:00\", \"2019-06-06T00:00:00\", \"2019-06-10T00:00:00\", \"2019-06-11T00:00:00\", \"2019-06-12T00:00:00\", \"2019-06-13T00:00:00\", \"2019-06-16T00:00:00\", \"2019-06-17T00:00:00\", \"2019-06-18T00:00:00\", \"2019-06-19T00:00:00\", \"2019-06-20T00:00:00\", \"2019-06-23T00:00:00\", \"2019-06-24T00:00:00\", \"2019-06-25T00:00:00\", \"2019-06-26T00:00:00\", \"2019-06-27T00:00:00\", \"2019-06-30T00:00:00\", \"2019-07-01T00:00:00\", \"2019-07-02T00:00:00\", \"2019-07-03T00:00:00\", \"2019-07-04T00:00:00\", \"2019-07-07T00:00:00\", \"2019-07-08T00:00:00\", \"2019-07-09T00:00:00\", \"2019-07-10T00:00:00\", \"2019-07-11T00:00:00\", \"2019-07-14T00:00:00\", \"2019-07-15T00:00:00\", \"2019-07-16T00:00:00\", \"2019-07-17T00:00:00\", \"2019-07-18T00:00:00\", \"2019-07-21T00:00:00\", \"2019-07-22T00:00:00\", \"2019-07-23T00:00:00\", \"2019-07-24T00:00:00\", \"2019-07-25T00:00:00\", \"2019-07-28T00:00:00\", \"2019-07-29T00:00:00\", \"2019-07-30T00:00:00\", \"2019-07-31T00:00:00\", \"2019-08-01T00:00:00\", \"2019-08-04T00:00:00\", \"2019-08-05T00:00:00\", \"2019-08-06T00:00:00\", \"2019-08-07T00:00:00\", \"2019-08-08T00:00:00\", \"2019-08-11T00:00:00\", \"2019-08-12T00:00:00\", \"2019-08-13T00:00:00\", \"2019-08-14T00:00:00\", \"2019-08-15T00:00:00\", \"2019-08-18T00:00:00\", \"2019-08-19T00:00:00\", \"2019-08-20T00:00:00\", \"2019-08-21T00:00:00\", \"2019-08-22T00:00:00\", \"2019-08-25T00:00:00\", \"2019-08-26T00:00:00\", \"2019-08-27T00:00:00\", \"2019-08-28T00:00:00\", \"2019-08-29T00:00:00\", \"2019-09-01T00:00:00\", \"2019-09-02T00:00:00\", \"2019-09-03T00:00:00\", \"2019-09-04T00:00:00\", \"2019-09-05T00:00:00\", \"2019-09-08T00:00:00\", \"2019-09-09T00:00:00\", \"2019-09-10T00:00:00\", \"2019-09-10T00:00:00\", \"2019-09-11T00:00:00\", \"2019-09-12T00:00:00\", \"2019-09-15T00:00:00\", \"2019-09-16T00:00:00\", \"2019-09-17T00:00:00\", \"2019-09-18T00:00:00\", \"2019-09-19T00:00:00\", \"2019-09-22T00:00:00\", \"2019-09-23T00:00:00\", \"2019-09-24T00:00:00\", \"2019-09-25T00:00:00\", \"2019-09-26T00:00:00\", \"2019-09-29T00:00:00\", \"2019-09-30T00:00:00\", \"2019-10-01T00:00:00\", \"2019-10-02T00:00:00\", \"2019-10-03T00:00:00\", \"2019-10-10T00:00:00\", \"2019-10-14T00:00:00\", \"2019-10-15T00:00:00\", \"2019-10-16T00:00:00\", \"2019-10-17T00:00:00\", \"2019-10-20T00:00:00\", \"2019-10-21T00:00:00\", \"2019-10-22T00:00:00\", \"2019-10-23T00:00:00\", \"2019-10-24T00:00:00\", \"2019-10-31T00:00:00\", \"2019-11-03T00:00:00\", \"2019-11-04T00:00:00\", \"2019-11-05T00:00:00\", \"2019-11-06T00:00:00\", \"2019-11-07T00:00:00\", \"2019-11-10T00:00:00\", \"2019-11-11T00:00:00\", \"2019-11-12T00:00:00\", \"2019-11-13T00:00:00\", \"2019-11-14T00:00:00\", \"2019-11-17T00:00:00\", \"2019-11-18T00:00:00\", \"2019-11-19T00:00:00\", \"2019-11-20T00:00:00\", \"2019-11-21T00:00:00\", \"2019-11-24T00:00:00\", \"2019-11-25T00:00:00\", \"2019-11-26T00:00:00\", \"2019-11-27T00:00:00\", \"2019-11-28T00:00:00\", \"2019-12-01T00:00:00\", \"2019-12-02T00:00:00\", \"2019-12-03T00:00:00\", \"2019-12-04T00:00:00\", \"2019-12-05T00:00:00\", \"2019-12-08T00:00:00\", \"2019-12-09T00:00:00\", \"2019-12-10T00:00:00\", \"2019-12-11T00:00:00\", \"2019-12-12T00:00:00\", \"2019-12-15T00:00:00\", \"2019-12-16T00:00:00\", \"2019-12-17T00:00:00\", \"2019-12-18T00:00:00\", \"2019-12-19T00:00:00\", \"2019-12-22T00:00:00\", \"2019-12-23T00:00:00\", \"2019-12-24T00:00:00\", \"2019-12-25T00:00:00\", \"2019-12-26T00:00:00\", \"2019-12-29T00:00:00\", \"2019-12-30T00:00:00\", \"2019-12-31T00:00:00\", \"2020-01-01T00:00:00\", \"2020-01-02T00:00:00\", \"2020-01-05T00:00:00\", \"2020-01-06T00:00:00\", \"2020-01-07T00:00:00\", \"2020-01-08T00:00:00\", \"2020-01-09T00:00:00\", \"2020-01-12T00:00:00\", \"2020-01-13T00:00:00\", \"2020-01-14T00:00:00\", \"2020-01-15T00:00:00\", \"2020-01-16T00:00:00\", \"2020-01-19T00:00:00\", \"2020-01-20T00:00:00\", \"2020-01-21T00:00:00\", \"2020-01-22T00:00:00\", \"2020-01-23T00:00:00\", \"2020-01-26T00:00:00\", \"2020-01-27T00:00:00\", \"2020-01-28T00:00:00\", \"2020-01-29T00:00:00\", \"2020-01-30T00:00:00\", \"2020-02-02T00:00:00\", \"2020-02-03T00:00:00\", \"2020-02-04T00:00:00\", \"2020-02-05T00:00:00\", \"2020-02-06T00:00:00\", \"2020-02-09T00:00:00\", \"2020-02-10T00:00:00\", \"2020-02-11T00:00:00\", \"2020-02-12T00:00:00\", \"2020-02-13T00:00:00\", \"2020-02-16T00:00:00\", \"2020-02-17T00:00:00\", \"2020-02-18T00:00:00\", \"2020-02-19T00:00:00\", \"2020-02-20T00:00:00\", \"2020-02-23T00:00:00\", \"2020-02-24T00:00:00\", \"2020-02-25T00:00:00\", \"2020-02-26T00:00:00\", \"2020-02-27T00:00:00\", \"2020-03-01T00:00:00\", \"2020-03-02T00:00:00\", \"2020-03-03T00:00:00\", \"2020-03-04T00:00:00\", \"2020-03-05T00:00:00\", \"2020-03-10T00:00:00\", \"2020-03-11T00:00:00\", \"2020-03-12T00:00:00\", \"2020-03-15T00:00:00\", \"2020-03-16T00:00:00\", \"2020-03-17T00:00:00\", \"2020-03-18T00:00:00\", \"2020-03-19T00:00:00\", \"2020-03-22T00:00:00\", \"2020-05-12T00:00:00\", \"2020-05-13T00:00:00\", \"2020-06-29T00:00:00\", \"2020-06-30T00:00:00\", \"2020-07-01T00:00:00\", \"2020-07-02T00:00:00\", \"2020-07-05T00:00:00\", \"2020-07-06T00:00:00\", \"2020-07-07T00:00:00\", \"2020-07-08T00:00:00\", \"2020-07-09T00:00:00\", \"2020-07-12T00:00:00\", \"2020-07-13T00:00:00\", \"2020-07-14T00:00:00\", \"2020-07-15T00:00:00\", \"2020-07-16T00:00:00\", \"2020-07-19T00:00:00\", \"2020-07-20T00:00:00\", \"2020-07-21T00:00:00\", \"2020-07-22T00:00:00\", \"2020-07-23T00:00:00\", \"2020-07-26T00:00:00\", \"2020-07-27T00:00:00\", \"2020-07-28T00:00:00\", \"2020-07-29T00:00:00\", \"2020-07-30T00:00:00\", \"2020-08-02T00:00:00\", \"2020-08-03T00:00:00\", \"2020-08-05T00:00:00\", \"2020-08-06T00:00:00\", \"2020-08-09T00:00:00\", \"2020-08-10T00:00:00\", \"2020-08-11T00:00:00\", \"2020-08-12T00:00:00\", \"2020-08-13T00:00:00\", \"2020-08-16T00:00:00\", \"2020-08-17T00:00:00\", \"2020-08-18T00:00:00\", \"2020-08-19T00:00:00\", \"2020-08-20T00:00:00\", \"2020-08-23T00:00:00\", \"2020-08-24T00:00:00\", \"2020-08-25T00:00:00\", \"2020-08-26T00:00:00\", \"2020-08-27T00:00:00\", \"2020-08-30T00:00:00\", \"2020-08-31T00:00:00\", \"2020-09-02T00:00:00\", \"2020-09-03T00:00:00\", \"2020-09-06T00:00:00\", \"2020-09-07T00:00:00\", \"2020-09-08T00:00:00\", \"2020-09-09T00:00:00\", \"2020-09-10T00:00:00\", \"2020-09-13T00:00:00\", \"2020-09-14T00:00:00\", \"2020-09-15T00:00:00\", \"2020-09-16T00:00:00\", \"2020-09-17T00:00:00\", \"2020-09-20T00:00:00\", \"2020-09-21T00:00:00\", \"2020-09-22T00:00:00\", \"2020-09-23T00:00:00\", \"2020-09-24T00:00:00\", \"2020-09-27T00:00:00\", \"2020-09-28T00:00:00\", \"2020-09-29T00:00:00\", \"2020-09-30T00:00:00\", \"2020-10-01T00:00:00\", \"2020-10-04T00:00:00\", \"2020-10-05T00:00:00\", \"2020-10-06T00:00:00\", \"2020-10-07T00:00:00\", \"2020-10-08T00:00:00\", \"2020-10-11T00:00:00\", \"2020-10-12T00:00:00\", \"2020-10-13T00:00:00\", \"2020-10-14T00:00:00\", \"2020-10-15T00:00:00\", \"2020-10-18T00:00:00\", \"2020-10-19T00:00:00\", \"2020-10-20T00:00:00\", \"2020-10-21T00:00:00\", \"2020-10-22T00:00:00\", \"2020-10-28T00:00:00\", \"2020-10-29T00:00:00\", \"2020-11-01T00:00:00\", \"2020-11-02T00:00:00\", \"2020-11-03T00:00:00\", \"2020-11-04T00:00:00\", \"2020-11-05T00:00:00\", \"2020-11-08T00:00:00\", \"2020-11-09T00:00:00\", \"2020-11-10T00:00:00\", \"2020-11-11T00:00:00\", \"2020-11-12T00:00:00\", \"2020-11-18T00:00:00\", \"2020-11-19T00:00:00\", \"2020-11-22T00:00:00\", \"2020-11-23T00:00:00\", \"2020-11-24T00:00:00\", \"2020-11-25T00:00:00\", \"2020-11-26T00:00:00\", \"2020-11-29T00:00:00\", \"2020-11-30T00:00:00\", \"2020-12-01T00:00:00\", \"2020-12-02T00:00:00\", \"2020-12-03T00:00:00\", \"2020-12-06T00:00:00\", \"2020-12-07T00:00:00\", \"2020-12-08T00:00:00\", \"2020-12-09T00:00:00\", \"2020-12-10T00:00:00\", \"2020-12-13T00:00:00\", \"2020-12-14T00:00:00\", \"2020-12-15T00:00:00\", \"2020-12-16T00:00:00\", \"2020-12-17T00:00:00\", \"2020-12-20T00:00:00\", \"2020-12-21T00:00:00\", \"2020-12-22T00:00:00\", \"2020-12-23T00:00:00\", \"2020-12-24T00:00:00\", \"2020-12-27T00:00:00\", \"2020-12-28T00:00:00\", \"2020-12-29T00:00:00\", \"2020-12-30T00:00:00\", \"2020-12-31T00:00:00\", \"2021-01-03T00:00:00\", \"2021-01-04T00:00:00\", \"2021-01-05T00:00:00\", \"2021-01-06T00:00:00\", \"2021-01-07T00:00:00\", \"2021-01-10T00:00:00\", \"2021-01-11T00:00:00\", \"2021-01-12T00:00:00\", \"2021-01-13T00:00:00\", \"2021-01-17T00:00:00\"], \"y\": [380, 382, 383, 377, 379, 382, 388, 390, 384, 386, 390, 398, 396, 392, 389, 390, 392, 392, 391, 393, 390, 392, 391, 390, 389, 389, 387, 390, 385, 386, 386, 384, 384, 387, 385, 389, 387, 384, 370, 374, 376, 378, 378, 381, 385, 391, 394, 400, 401, 399, 399, 401, 398, 399, 395, 396, 398, 398, 398, 398, 400, 410, 426, 436, 440, 468, 466, 458, 466, 469, 470, 492, 487, 482, 494, 484, 490, 506, 507, 502, 496, 495, 491, 483, 496, 494, 493, 488, 498, 487, 493, 491, 490, 484, 483, 482, 484, 484, 477, 480, 480, 480, 485, 478, 468, 470, 460, 451, 457, 458, 454, 451, 454, 461, 466, 471, 466, 467, 469, 467, 463, 456, 456, 455, 462, 462, 458, 452, 449, 445, 445, 443, 446, 448, 456, 459, 461, 463, 465, 474, 467, 459, 462, 465, 468, 467, 467, 465, 458, 453, 449, 449, 450, 449, 443, 444, 451, 460, 453, 454, 454, 448, 447, 447, 439, 439, 440, 436, 449, 451, 449, 448, 448, 448, 448, 447, 448, 391, 380, 387, 395, 387, 383, 379, 379, 376, 375, 375, 378, 384, 384, 389, 385, 378, 385, 386, 386, 382, 384, 391, 398, 411, 408, 405, 400, 397, 400, 399, 400, 404, 398, 399, 406, 418, 417, 411, 410, 404, 400, 405, 406, 408, 406, 406, 404, 405, 403, 407, 405, 410, 410, 414, 414, 421, 418, 414, 416, 413, 415, 415, 414, 413, 412, 408, 405, 408, 411, 413, 427, 440, 438, 434, 433, 446, 450, 443, 472, 475, 477, 479, 482, 478, 472, 467, 471, 475, 470, 480, 492, 488, 481, 482, 481, 483, 488, 503, 508, 503, 511, 539, 548, 547, 554, 596, 594, 595, 610, 660, 639, 603, 608, 577, 575, 526, 567, 550, 518, 522, 508, 502, 509, 496, 482, 468, 469, 506, 525, 485, 490, 499, 510, 505, 502, 510, 516, 533, 553, 570, 627, 595, 587, 580, 579, 594, 588, 580, 570, 570, 552, 556, 550, 548, 553, 574, 572, 574, 577, 566, 566, 565, 554, 560, 565, 574, 576, 590, 588, 581, 589, 599, 595, 588, 577, 579, 577, 576, 587, 589, 581, 579, 590, 592, 589, 577, 578, 579, 580, 579, 573, 571, 579, 580, 577, 574, 575, 573, 574, 580, 579, 579, 578, 572, 577, 581, 605, 605, 617, 620, 622, 618, 619, 619, 618, 619, 618, 619, 642, 644, 670, 670, 691, 687, 697, 634, 624, 660, 647, 632, 653, 644, 623, 633, 626, 612, 616, 650, 667, 672, 669, 690, 707, 777, 854, 852, 827, 810, 854, 842, 870, 882, 899, 892, 883, 892, 908, 927, 915, 918, 912, 901]}],\n",
              "                        {\"template\": {\"data\": {\"bar\": [{\"error_x\": {\"color\": \"#2a3f5f\"}, \"error_y\": {\"color\": \"#2a3f5f\"}, \"marker\": {\"line\": {\"color\": \"#E5ECF6\", \"width\": 0.5}}, \"type\": \"bar\"}], \"barpolar\": [{\"marker\": {\"line\": {\"color\": \"#E5ECF6\", \"width\": 0.5}}, \"type\": \"barpolar\"}], \"carpet\": [{\"aaxis\": {\"endlinecolor\": \"#2a3f5f\", \"gridcolor\": \"white\", \"linecolor\": \"white\", \"minorgridcolor\": \"white\", \"startlinecolor\": \"#2a3f5f\"}, \"baxis\": {\"endlinecolor\": \"#2a3f5f\", \"gridcolor\": \"white\", \"linecolor\": \"white\", \"minorgridcolor\": \"white\", \"startlinecolor\": \"#2a3f5f\"}, \"type\": \"carpet\"}], \"choropleth\": [{\"colorbar\": {\"outlinewidth\": 0, \"ticks\": \"\"}, \"type\": \"choropleth\"}], \"contour\": [{\"colorbar\": {\"outlinewidth\": 0, \"ticks\": \"\"}, \"colorscale\": [[0.0, \"#0d0887\"], [0.1111111111111111, \"#46039f\"], [0.2222222222222222, \"#7201a8\"], [0.3333333333333333, \"#9c179e\"], [0.4444444444444444, \"#bd3786\"], [0.5555555555555556, \"#d8576b\"], [0.6666666666666666, \"#ed7953\"], [0.7777777777777778, \"#fb9f3a\"], [0.8888888888888888, \"#fdca26\"], [1.0, \"#f0f921\"]], \"type\": \"contour\"}], \"contourcarpet\": [{\"colorbar\": {\"outlinewidth\": 0, \"ticks\": \"\"}, \"type\": \"contourcarpet\"}], \"heatmap\": [{\"colorbar\": {\"outlinewidth\": 0, \"ticks\": \"\"}, \"colorscale\": [[0.0, \"#0d0887\"], [0.1111111111111111, \"#46039f\"], [0.2222222222222222, \"#7201a8\"], [0.3333333333333333, \"#9c179e\"], [0.4444444444444444, \"#bd3786\"], [0.5555555555555556, \"#d8576b\"], [0.6666666666666666, \"#ed7953\"], [0.7777777777777778, \"#fb9f3a\"], [0.8888888888888888, \"#fdca26\"], [1.0, \"#f0f921\"]], \"type\": \"heatmap\"}], \"heatmapgl\": [{\"colorbar\": {\"outlinewidth\": 0, \"ticks\": \"\"}, \"colorscale\": [[0.0, \"#0d0887\"], [0.1111111111111111, \"#46039f\"], [0.2222222222222222, \"#7201a8\"], [0.3333333333333333, \"#9c179e\"], [0.4444444444444444, \"#bd3786\"], [0.5555555555555556, \"#d8576b\"], [0.6666666666666666, \"#ed7953\"], [0.7777777777777778, \"#fb9f3a\"], [0.8888888888888888, \"#fdca26\"], [1.0, \"#f0f921\"]], \"type\": \"heatmapgl\"}], \"histogram\": [{\"marker\": {\"colorbar\": {\"outlinewidth\": 0, \"ticks\": \"\"}}, \"type\": \"histogram\"}], \"histogram2d\": [{\"colorbar\": {\"outlinewidth\": 0, \"ticks\": \"\"}, \"colorscale\": [[0.0, \"#0d0887\"], [0.1111111111111111, \"#46039f\"], [0.2222222222222222, \"#7201a8\"], [0.3333333333333333, \"#9c179e\"], [0.4444444444444444, \"#bd3786\"], [0.5555555555555556, \"#d8576b\"], [0.6666666666666666, \"#ed7953\"], [0.7777777777777778, \"#fb9f3a\"], [0.8888888888888888, \"#fdca26\"], [1.0, \"#f0f921\"]], \"type\": \"histogram2d\"}], \"histogram2dcontour\": [{\"colorbar\": {\"outlinewidth\": 0, \"ticks\": \"\"}, \"colorscale\": [[0.0, \"#0d0887\"], [0.1111111111111111, \"#46039f\"], [0.2222222222222222, \"#7201a8\"], [0.3333333333333333, \"#9c179e\"], [0.4444444444444444, \"#bd3786\"], [0.5555555555555556, \"#d8576b\"], [0.6666666666666666, \"#ed7953\"], [0.7777777777777778, \"#fb9f3a\"], [0.8888888888888888, \"#fdca26\"], [1.0, \"#f0f921\"]], \"type\": \"histogram2dcontour\"}], \"mesh3d\": [{\"colorbar\": {\"outlinewidth\": 0, \"ticks\": \"\"}, \"type\": \"mesh3d\"}], \"parcoords\": [{\"line\": {\"colorbar\": {\"outlinewidth\": 0, \"ticks\": \"\"}}, \"type\": \"parcoords\"}], \"pie\": [{\"automargin\": true, \"type\": \"pie\"}], \"scatter\": [{\"marker\": {\"colorbar\": {\"outlinewidth\": 0, \"ticks\": \"\"}}, \"type\": \"scatter\"}], \"scatter3d\": [{\"line\": {\"colorbar\": {\"outlinewidth\": 0, \"ticks\": \"\"}}, \"marker\": {\"colorbar\": {\"outlinewidth\": 0, \"ticks\": \"\"}}, \"type\": \"scatter3d\"}], \"scattercarpet\": [{\"marker\": {\"colorbar\": {\"outlinewidth\": 0, \"ticks\": \"\"}}, \"type\": \"scattercarpet\"}], \"scattergeo\": [{\"marker\": {\"colorbar\": {\"outlinewidth\": 0, \"ticks\": \"\"}}, \"type\": \"scattergeo\"}], \"scattergl\": [{\"marker\": {\"colorbar\": {\"outlinewidth\": 0, \"ticks\": \"\"}}, \"type\": \"scattergl\"}], \"scattermapbox\": [{\"marker\": {\"colorbar\": {\"outlinewidth\": 0, \"ticks\": \"\"}}, \"type\": \"scattermapbox\"}], \"scatterpolar\": [{\"marker\": {\"colorbar\": {\"outlinewidth\": 0, \"ticks\": \"\"}}, \"type\": \"scatterpolar\"}], \"scatterpolargl\": [{\"marker\": {\"colorbar\": {\"outlinewidth\": 0, \"ticks\": \"\"}}, \"type\": \"scatterpolargl\"}], \"scatterternary\": [{\"marker\": {\"colorbar\": {\"outlinewidth\": 0, \"ticks\": \"\"}}, \"type\": \"scatterternary\"}], \"surface\": [{\"colorbar\": {\"outlinewidth\": 0, \"ticks\": \"\"}, \"colorscale\": [[0.0, \"#0d0887\"], [0.1111111111111111, \"#46039f\"], [0.2222222222222222, \"#7201a8\"], [0.3333333333333333, \"#9c179e\"], [0.4444444444444444, \"#bd3786\"], [0.5555555555555556, \"#d8576b\"], [0.6666666666666666, \"#ed7953\"], [0.7777777777777778, \"#fb9f3a\"], [0.8888888888888888, \"#fdca26\"], [1.0, \"#f0f921\"]], \"type\": \"surface\"}], \"table\": [{\"cells\": {\"fill\": {\"color\": \"#EBF0F8\"}, \"line\": {\"color\": \"white\"}}, \"header\": {\"fill\": {\"color\": \"#C8D4E3\"}, \"line\": {\"color\": \"white\"}}, \"type\": \"table\"}]}, \"layout\": {\"annotationdefaults\": {\"arrowcolor\": \"#2a3f5f\", \"arrowhead\": 0, \"arrowwidth\": 1}, \"coloraxis\": {\"colorbar\": {\"outlinewidth\": 0, \"ticks\": \"\"}}, \"colorscale\": {\"diverging\": [[0, \"#8e0152\"], [0.1, \"#c51b7d\"], [0.2, \"#de77ae\"], [0.3, \"#f1b6da\"], [0.4, \"#fde0ef\"], [0.5, \"#f7f7f7\"], [0.6, \"#e6f5d0\"], [0.7, \"#b8e186\"], [0.8, \"#7fbc41\"], [0.9, \"#4d9221\"], [1, \"#276419\"]], \"sequential\": [[0.0, \"#0d0887\"], [0.1111111111111111, \"#46039f\"], [0.2222222222222222, \"#7201a8\"], [0.3333333333333333, \"#9c179e\"], [0.4444444444444444, \"#bd3786\"], [0.5555555555555556, \"#d8576b\"], [0.6666666666666666, \"#ed7953\"], [0.7777777777777778, \"#fb9f3a\"], [0.8888888888888888, \"#fdca26\"], [1.0, \"#f0f921\"]], \"sequentialminus\": [[0.0, \"#0d0887\"], [0.1111111111111111, \"#46039f\"], [0.2222222222222222, \"#7201a8\"], [0.3333333333333333, \"#9c179e\"], [0.4444444444444444, \"#bd3786\"], [0.5555555555555556, \"#d8576b\"], [0.6666666666666666, \"#ed7953\"], [0.7777777777777778, \"#fb9f3a\"], [0.8888888888888888, \"#fdca26\"], [1.0, \"#f0f921\"]]}, \"colorway\": [\"#636efa\", \"#EF553B\", \"#00cc96\", \"#ab63fa\", \"#FFA15A\", \"#19d3f3\", \"#FF6692\", \"#B6E880\", \"#FF97FF\", \"#FECB52\"], \"font\": {\"color\": \"#2a3f5f\"}, \"geo\": {\"bgcolor\": \"white\", \"lakecolor\": \"white\", \"landcolor\": \"#E5ECF6\", \"showlakes\": true, \"showland\": true, \"subunitcolor\": \"white\"}, \"hoverlabel\": {\"align\": \"left\"}, \"hovermode\": \"closest\", \"mapbox\": {\"style\": \"light\"}, \"paper_bgcolor\": \"white\", \"plot_bgcolor\": \"#E5ECF6\", \"polar\": {\"angularaxis\": {\"gridcolor\": \"white\", \"linecolor\": \"white\", \"ticks\": \"\"}, \"bgcolor\": \"#E5ECF6\", \"radialaxis\": {\"gridcolor\": \"white\", \"linecolor\": \"white\", \"ticks\": \"\"}}, \"scene\": {\"xaxis\": {\"backgroundcolor\": \"#E5ECF6\", \"gridcolor\": \"white\", \"gridwidth\": 2, \"linecolor\": \"white\", \"showbackground\": true, \"ticks\": \"\", \"zerolinecolor\": \"white\"}, \"yaxis\": {\"backgroundcolor\": \"#E5ECF6\", \"gridcolor\": \"white\", \"gridwidth\": 2, \"linecolor\": \"white\", \"showbackground\": true, \"ticks\": \"\", \"zerolinecolor\": \"white\"}, \"zaxis\": {\"backgroundcolor\": \"#E5ECF6\", \"gridcolor\": \"white\", \"gridwidth\": 2, \"linecolor\": \"white\", \"showbackground\": true, \"ticks\": \"\", \"zerolinecolor\": \"white\"}}, \"shapedefaults\": {\"line\": {\"color\": \"#2a3f5f\"}}, \"ternary\": {\"aaxis\": {\"gridcolor\": \"white\", \"linecolor\": \"white\", \"ticks\": \"\"}, \"baxis\": {\"gridcolor\": \"white\", \"linecolor\": \"white\", \"ticks\": \"\"}, \"bgcolor\": \"#E5ECF6\", \"caxis\": {\"gridcolor\": \"white\", \"linecolor\": \"white\", \"ticks\": \"\"}}, \"title\": {\"x\": 0.05}, \"xaxis\": {\"automargin\": true, \"gridcolor\": \"white\", \"linecolor\": \"white\", \"ticks\": \"\", \"title\": {\"standoff\": 15}, \"zerolinecolor\": \"white\", \"zerolinewidth\": 2}, \"yaxis\": {\"automargin\": true, \"gridcolor\": \"white\", \"linecolor\": \"white\", \"ticks\": \"\", \"title\": {\"standoff\": 15}, \"zerolinecolor\": \"white\", \"zerolinewidth\": 2}}}},\n",
              "                        {\"responsive\": true}\n",
              "                    ).then(function(){\n",
              "                            \n",
              "var gd = document.getElementById('f1eeb5c6-4411-4a01-8e2e-ec2440afbead');\n",
              "var x = new MutationObserver(function (mutations, observer) {{\n",
              "        var display = window.getComputedStyle(gd).display;\n",
              "        if (!display || display === 'none') {{\n",
              "            console.log([gd, 'removed!']);\n",
              "            Plotly.purge(gd);\n",
              "            observer.disconnect();\n",
              "        }}\n",
              "}});\n",
              "\n",
              "// Listen for the removal of the full notebook cells\n",
              "var notebookContainer = gd.closest('#notebook-container');\n",
              "if (notebookContainer) {{\n",
              "    x.observe(notebookContainer, {childList: true});\n",
              "}}\n",
              "\n",
              "// Listen for the clearing of the current output cell\n",
              "var outputEl = gd.closest('.output');\n",
              "if (outputEl) {{\n",
              "    x.observe(outputEl, {childList: true});\n",
              "}}\n",
              "\n",
              "                        })\n",
              "                };\n",
              "                \n",
              "            </script>\n",
              "        </div>\n",
              "</body>\n",
              "</html>"
            ]
          },
          "metadata": {
            "tags": []
          }
        }
      ]
    },
    {
      "cell_type": "code",
      "metadata": {
        "id": "PHKi9Pfbm0px"
      },
      "source": [
        "name,df = df_list[0]"
      ],
      "execution_count": 396,
      "outputs": []
    },
    {
      "cell_type": "code",
      "metadata": {
        "colab": {
          "base_uri": "https://localhost:8080/",
          "height": 206
        },
        "id": "2vCLrM1Nm0pz",
        "outputId": "e2ae1c3e-f02d-40fc-e346-8de03f4de8cf"
      },
      "source": [
        "df.head()"
      ],
      "execution_count": 397,
      "outputs": [
        {
          "output_type": "execute_result",
          "data": {
            "text/html": [
              "<div>\n",
              "<style scoped>\n",
              "    .dataframe tbody tr th:only-of-type {\n",
              "        vertical-align: middle;\n",
              "    }\n",
              "\n",
              "    .dataframe tbody tr th {\n",
              "        vertical-align: top;\n",
              "    }\n",
              "\n",
              "    .dataframe thead th {\n",
              "        text-align: right;\n",
              "    }\n",
              "</style>\n",
              "<table border=\"1\" class=\"dataframe\">\n",
              "  <thead>\n",
              "    <tr style=\"text-align: right;\">\n",
              "      <th></th>\n",
              "      <th>Date</th>\n",
              "      <th>Total Transactions</th>\n",
              "      <th>Total Traded Shares</th>\n",
              "      <th>Total Traded Amount</th>\n",
              "      <th>Max. Price</th>\n",
              "      <th>Min. Price</th>\n",
              "      <th>Close Price</th>\n",
              "    </tr>\n",
              "  </thead>\n",
              "  <tbody>\n",
              "    <tr>\n",
              "      <th>0</th>\n",
              "      <td>2019-01-01</td>\n",
              "      <td>30</td>\n",
              "      <td>7155</td>\n",
              "      <td>2707400</td>\n",
              "      <td>383</td>\n",
              "      <td>377</td>\n",
              "      <td>380</td>\n",
              "    </tr>\n",
              "    <tr>\n",
              "      <th>1</th>\n",
              "      <td>2019-01-02</td>\n",
              "      <td>43</td>\n",
              "      <td>19408</td>\n",
              "      <td>7370888</td>\n",
              "      <td>382</td>\n",
              "      <td>378</td>\n",
              "      <td>382</td>\n",
              "    </tr>\n",
              "    <tr>\n",
              "      <th>2</th>\n",
              "      <td>2019-01-03</td>\n",
              "      <td>44</td>\n",
              "      <td>8316</td>\n",
              "      <td>3179485</td>\n",
              "      <td>385</td>\n",
              "      <td>381</td>\n",
              "      <td>383</td>\n",
              "    </tr>\n",
              "    <tr>\n",
              "      <th>3</th>\n",
              "      <td>2019-01-06</td>\n",
              "      <td>48</td>\n",
              "      <td>9575</td>\n",
              "      <td>3631962</td>\n",
              "      <td>383</td>\n",
              "      <td>377</td>\n",
              "      <td>377</td>\n",
              "    </tr>\n",
              "    <tr>\n",
              "      <th>4</th>\n",
              "      <td>2019-01-07</td>\n",
              "      <td>45</td>\n",
              "      <td>17398</td>\n",
              "      <td>6606274</td>\n",
              "      <td>383</td>\n",
              "      <td>377</td>\n",
              "      <td>379</td>\n",
              "    </tr>\n",
              "  </tbody>\n",
              "</table>\n",
              "</div>"
            ],
            "text/plain": [
              "        Date  Total Transactions  ...  Min. Price  Close Price\n",
              "0 2019-01-01                  30  ...         377          380\n",
              "1 2019-01-02                  43  ...         378          382\n",
              "2 2019-01-03                  44  ...         381          383\n",
              "3 2019-01-06                  48  ...         377          377\n",
              "4 2019-01-07                  45  ...         377          379\n",
              "\n",
              "[5 rows x 7 columns]"
            ]
          },
          "metadata": {
            "tags": []
          },
          "execution_count": 397
        }
      ]
    },
    {
      "cell_type": "code",
      "metadata": {
        "colab": {
          "base_uri": "https://localhost:8080/",
          "height": 300
        },
        "id": "MTjzsXkym0p0",
        "outputId": "f4d79d48-3b9d-46f0-8efc-33843e6b28fa"
      },
      "source": [
        "df.describe()"
      ],
      "execution_count": 398,
      "outputs": [
        {
          "output_type": "execute_result",
          "data": {
            "text/html": [
              "<div>\n",
              "<style scoped>\n",
              "    .dataframe tbody tr th:only-of-type {\n",
              "        vertical-align: middle;\n",
              "    }\n",
              "\n",
              "    .dataframe tbody tr th {\n",
              "        vertical-align: top;\n",
              "    }\n",
              "\n",
              "    .dataframe thead th {\n",
              "        text-align: right;\n",
              "    }\n",
              "</style>\n",
              "<table border=\"1\" class=\"dataframe\">\n",
              "  <thead>\n",
              "    <tr style=\"text-align: right;\">\n",
              "      <th></th>\n",
              "      <th>Total Transactions</th>\n",
              "      <th>Total Traded Shares</th>\n",
              "      <th>Total Traded Amount</th>\n",
              "      <th>Max. Price</th>\n",
              "      <th>Min. Price</th>\n",
              "      <th>Close Price</th>\n",
              "    </tr>\n",
              "  </thead>\n",
              "  <tbody>\n",
              "    <tr>\n",
              "      <th>count</th>\n",
              "      <td>440.000000</td>\n",
              "      <td>440.000000</td>\n",
              "      <td>4.400000e+02</td>\n",
              "      <td>440.000000</td>\n",
              "      <td>440.000000</td>\n",
              "      <td>440.000000</td>\n",
              "    </tr>\n",
              "    <tr>\n",
              "      <th>mean</th>\n",
              "      <td>321.952273</td>\n",
              "      <td>80094.565909</td>\n",
              "      <td>4.772807e+07</td>\n",
              "      <td>508.490909</td>\n",
              "      <td>494.195455</td>\n",
              "      <td>500.438636</td>\n",
              "    </tr>\n",
              "    <tr>\n",
              "      <th>std</th>\n",
              "      <td>393.480781</td>\n",
              "      <td>93826.650236</td>\n",
              "      <td>6.921361e+07</td>\n",
              "      <td>118.447801</td>\n",
              "      <td>110.842530</td>\n",
              "      <td>114.206187</td>\n",
              "    </tr>\n",
              "    <tr>\n",
              "      <th>min</th>\n",
              "      <td>2.000000</td>\n",
              "      <td>60.000000</td>\n",
              "      <td>2.813000e+04</td>\n",
              "      <td>377.000000</td>\n",
              "      <td>368.000000</td>\n",
              "      <td>370.000000</td>\n",
              "    </tr>\n",
              "    <tr>\n",
              "      <th>25%</th>\n",
              "      <td>88.000000</td>\n",
              "      <td>21959.500000</td>\n",
              "      <td>9.051618e+06</td>\n",
              "      <td>413.750000</td>\n",
              "      <td>405.750000</td>\n",
              "      <td>408.000000</td>\n",
              "    </tr>\n",
              "    <tr>\n",
              "      <th>50%</th>\n",
              "      <td>171.000000</td>\n",
              "      <td>42403.000000</td>\n",
              "      <td>2.010977e+07</td>\n",
              "      <td>475.000000</td>\n",
              "      <td>465.000000</td>\n",
              "      <td>469.000000</td>\n",
              "    </tr>\n",
              "    <tr>\n",
              "      <th>75%</th>\n",
              "      <td>388.000000</td>\n",
              "      <td>100493.000000</td>\n",
              "      <td>5.448131e+07</td>\n",
              "      <td>581.250000</td>\n",
              "      <td>570.000000</td>\n",
              "      <td>574.000000</td>\n",
              "    </tr>\n",
              "    <tr>\n",
              "      <th>max</th>\n",
              "      <td>2871.000000</td>\n",
              "      <td>674434.000000</td>\n",
              "      <td>4.797399e+08</td>\n",
              "      <td>963.000000</td>\n",
              "      <td>912.000000</td>\n",
              "      <td>927.000000</td>\n",
              "    </tr>\n",
              "  </tbody>\n",
              "</table>\n",
              "</div>"
            ],
            "text/plain": [
              "       Total Transactions  Total Traded Shares  ...  Min. Price  Close Price\n",
              "count          440.000000           440.000000  ...  440.000000   440.000000\n",
              "mean           321.952273         80094.565909  ...  494.195455   500.438636\n",
              "std            393.480781         93826.650236  ...  110.842530   114.206187\n",
              "min              2.000000            60.000000  ...  368.000000   370.000000\n",
              "25%             88.000000         21959.500000  ...  405.750000   408.000000\n",
              "50%            171.000000         42403.000000  ...  465.000000   469.000000\n",
              "75%            388.000000        100493.000000  ...  570.000000   574.000000\n",
              "max           2871.000000        674434.000000  ...  912.000000   927.000000\n",
              "\n",
              "[8 rows x 6 columns]"
            ]
          },
          "metadata": {
            "tags": []
          },
          "execution_count": 398
        }
      ]
    },
    {
      "cell_type": "code",
      "metadata": {
        "colab": {
          "base_uri": "https://localhost:8080/",
          "height": 206
        },
        "id": "_wV1IpO6m0p4",
        "outputId": "c83841dd-0995-4534-b384-dc0080064fc2"
      },
      "source": [
        "df_avg = df[['Date','Total Transactions', 'Total Traded Shares', 'Total Traded Amount','Close Price']]\n",
        "df_avg.head()"
      ],
      "execution_count": 399,
      "outputs": [
        {
          "output_type": "execute_result",
          "data": {
            "text/html": [
              "<div>\n",
              "<style scoped>\n",
              "    .dataframe tbody tr th:only-of-type {\n",
              "        vertical-align: middle;\n",
              "    }\n",
              "\n",
              "    .dataframe tbody tr th {\n",
              "        vertical-align: top;\n",
              "    }\n",
              "\n",
              "    .dataframe thead th {\n",
              "        text-align: right;\n",
              "    }\n",
              "</style>\n",
              "<table border=\"1\" class=\"dataframe\">\n",
              "  <thead>\n",
              "    <tr style=\"text-align: right;\">\n",
              "      <th></th>\n",
              "      <th>Date</th>\n",
              "      <th>Total Transactions</th>\n",
              "      <th>Total Traded Shares</th>\n",
              "      <th>Total Traded Amount</th>\n",
              "      <th>Close Price</th>\n",
              "    </tr>\n",
              "  </thead>\n",
              "  <tbody>\n",
              "    <tr>\n",
              "      <th>0</th>\n",
              "      <td>2019-01-01</td>\n",
              "      <td>30</td>\n",
              "      <td>7155</td>\n",
              "      <td>2707400</td>\n",
              "      <td>380</td>\n",
              "    </tr>\n",
              "    <tr>\n",
              "      <th>1</th>\n",
              "      <td>2019-01-02</td>\n",
              "      <td>43</td>\n",
              "      <td>19408</td>\n",
              "      <td>7370888</td>\n",
              "      <td>382</td>\n",
              "    </tr>\n",
              "    <tr>\n",
              "      <th>2</th>\n",
              "      <td>2019-01-03</td>\n",
              "      <td>44</td>\n",
              "      <td>8316</td>\n",
              "      <td>3179485</td>\n",
              "      <td>383</td>\n",
              "    </tr>\n",
              "    <tr>\n",
              "      <th>3</th>\n",
              "      <td>2019-01-06</td>\n",
              "      <td>48</td>\n",
              "      <td>9575</td>\n",
              "      <td>3631962</td>\n",
              "      <td>377</td>\n",
              "    </tr>\n",
              "    <tr>\n",
              "      <th>4</th>\n",
              "      <td>2019-01-07</td>\n",
              "      <td>45</td>\n",
              "      <td>17398</td>\n",
              "      <td>6606274</td>\n",
              "      <td>379</td>\n",
              "    </tr>\n",
              "  </tbody>\n",
              "</table>\n",
              "</div>"
            ],
            "text/plain": [
              "        Date  Total Transactions  ...  Total Traded Amount  Close Price\n",
              "0 2019-01-01                  30  ...              2707400          380\n",
              "1 2019-01-02                  43  ...              7370888          382\n",
              "2 2019-01-03                  44  ...              3179485          383\n",
              "3 2019-01-06                  48  ...              3631962          377\n",
              "4 2019-01-07                  45  ...              6606274          379\n",
              "\n",
              "[5 rows x 5 columns]"
            ]
          },
          "metadata": {
            "tags": []
          },
          "execution_count": 399
        }
      ]
    },
    {
      "cell_type": "code",
      "metadata": {
        "tags": [],
        "colab": {
          "base_uri": "https://localhost:8080/",
          "height": 206
        },
        "id": "ND_nQJpkm0p5",
        "outputId": "fa01c759-ba92-4268-c99d-0f0ce0c97034"
      },
      "source": [
        "roll = 10\n",
        "avg_array = []\n",
        "for i in range(0,len(df)-roll-1):\n",
        "    del_alpha = 1/(roll+1)\n",
        "    alpha = del_alpha\n",
        "    total_weight = 0\n",
        "    avg_transactions = 0\n",
        "    avg_total_traded_shares = 0\n",
        "    avg_total_traded_amt = 0\n",
        "    avg_max_amt = 0\n",
        "    avg_min_amt = 0\n",
        "    for j in range(roll):\n",
        "        avg_transactions += alpha*df.iloc[i+j,1] \n",
        "        avg_total_traded_shares += alpha*df.iloc[i+j,2] \n",
        "        avg_total_traded_amt += alpha*df.iloc[i+j,3] \n",
        "        avg_max_amt += alpha*df.iloc[i+j,4] \n",
        "        avg_min_amt += alpha*df.iloc[i+j,5] \n",
        "        # print(alpha,del_alpha)\n",
        "        alpha += del_alpha\n",
        "        total_weight += alpha\n",
        "        \n",
        "    # break\n",
        "    avg_array.append([df.iloc[i+roll-1,0],avg_transactions/total_weight,avg_total_traded_shares/total_weight,avg_total_traded_amt/total_weight,avg_max_amt/total_weight,avg_min_amt/total_weight,df.iloc[i+roll-1,6]])\n",
        "    # avg_array.append([df.iloc[i+roll-1,0],avg_transactions,avg_total_traded_shares,avg_total_traded_amt,df.iloc[i+roll-1,4],df.iloc[i+roll-1,5],df.iloc[i+roll-1,6]])\n",
        "\n",
        "df_avg = pd.DataFrame(avg_array,columns=['Date','Total Transactions', 'Total Traded Shares', 'Total Traded Amount','Max. Price','Min. Price','Close Price'])\n",
        "df_avg.head()\n",
        "    \n"
      ],
      "execution_count": 400,
      "outputs": [
        {
          "output_type": "execute_result",
          "data": {
            "text/html": [
              "<div>\n",
              "<style scoped>\n",
              "    .dataframe tbody tr th:only-of-type {\n",
              "        vertical-align: middle;\n",
              "    }\n",
              "\n",
              "    .dataframe tbody tr th {\n",
              "        vertical-align: top;\n",
              "    }\n",
              "\n",
              "    .dataframe thead th {\n",
              "        text-align: right;\n",
              "    }\n",
              "</style>\n",
              "<table border=\"1\" class=\"dataframe\">\n",
              "  <thead>\n",
              "    <tr style=\"text-align: right;\">\n",
              "      <th></th>\n",
              "      <th>Date</th>\n",
              "      <th>Total Transactions</th>\n",
              "      <th>Total Traded Shares</th>\n",
              "      <th>Total Traded Amount</th>\n",
              "      <th>Max. Price</th>\n",
              "      <th>Min. Price</th>\n",
              "      <th>Close Price</th>\n",
              "    </tr>\n",
              "  </thead>\n",
              "  <tbody>\n",
              "    <tr>\n",
              "      <th>0</th>\n",
              "      <td>2019-01-14</td>\n",
              "      <td>55.738462</td>\n",
              "      <td>25224.861538</td>\n",
              "      <td>9.710526e+06</td>\n",
              "      <td>328.384615</td>\n",
              "      <td>322.830769</td>\n",
              "      <td>386</td>\n",
              "    </tr>\n",
              "    <tr>\n",
              "      <th>1</th>\n",
              "      <td>2019-01-15</td>\n",
              "      <td>55.200000</td>\n",
              "      <td>23940.323077</td>\n",
              "      <td>9.233672e+06</td>\n",
              "      <td>329.246154</td>\n",
              "      <td>323.707692</td>\n",
              "      <td>390</td>\n",
              "    </tr>\n",
              "    <tr>\n",
              "      <th>2</th>\n",
              "      <td>2019-01-16</td>\n",
              "      <td>84.584615</td>\n",
              "      <td>32065.107692</td>\n",
              "      <td>1.251019e+07</td>\n",
              "      <td>331.353846</td>\n",
              "      <td>325.061538</td>\n",
              "      <td>398</td>\n",
              "    </tr>\n",
              "    <tr>\n",
              "      <th>3</th>\n",
              "      <td>2019-01-17</td>\n",
              "      <td>93.369231</td>\n",
              "      <td>31559.261538</td>\n",
              "      <td>1.235030e+07</td>\n",
              "      <td>333.169231</td>\n",
              "      <td>327.000000</td>\n",
              "      <td>396</td>\n",
              "    </tr>\n",
              "    <tr>\n",
              "      <th>4</th>\n",
              "      <td>2019-01-20</td>\n",
              "      <td>86.076923</td>\n",
              "      <td>27530.461538</td>\n",
              "      <td>1.078737e+07</td>\n",
              "      <td>334.123077</td>\n",
              "      <td>328.261538</td>\n",
              "      <td>392</td>\n",
              "    </tr>\n",
              "  </tbody>\n",
              "</table>\n",
              "</div>"
            ],
            "text/plain": [
              "        Date  Total Transactions  ...  Min. Price  Close Price\n",
              "0 2019-01-14           55.738462  ...  322.830769          386\n",
              "1 2019-01-15           55.200000  ...  323.707692          390\n",
              "2 2019-01-16           84.584615  ...  325.061538          398\n",
              "3 2019-01-17           93.369231  ...  327.000000          396\n",
              "4 2019-01-20           86.076923  ...  328.261538          392\n",
              "\n",
              "[5 rows x 7 columns]"
            ]
          },
          "metadata": {
            "tags": []
          },
          "execution_count": 400
        }
      ]
    },
    {
      "cell_type": "code",
      "metadata": {
        "colab": {
          "base_uri": "https://localhost:8080/",
          "height": 295
        },
        "id": "cWEYi_2_m0p5",
        "outputId": "77544407-b6b1-4b25-8ad3-9a6bd2864c77"
      },
      "source": [
        "plt.plot(df_avg['Date'],df_avg['Total Traded Amount'],label=name)\n",
        "plt.plot(df['Date'],df['Total Traded Amount'],label=name)\n",
        "    \n",
        "plt.title('Comparing different Prices')\n",
        "plt.xlabel(\"Date\")\n",
        "plt.legend()\n",
        "plt.ylabel(\"Closing Price\")\n",
        "\n",
        "plt.show()"
      ],
      "execution_count": 401,
      "outputs": [
        {
          "output_type": "display_data",
          "data": {
            "image/png": "[encoded data removed]",
            "text/plain": [
              "<Figure size 432x288 with 1 Axes>"
            ]
          },
          "metadata": {
            "tags": [],
            "needs_background": "light"
          }
        }
      ]
    },
    {
      "cell_type": "code",
      "metadata": {
        "id": "7jwmRHSjm0p6"
      },
      "source": [
        "X = df_avg[['Total Transactions', 'Total Traded Shares', 'Total Traded Amount','Max. Price','Min. Price']]\n",
        "y = df_avg['Close Price']"
      ],
      "execution_count": 402,
      "outputs": []
    },
    {
      "cell_type": "code",
      "metadata": {
        "colab": {
          "base_uri": "https://localhost:8080/",
          "height": 206
        },
        "id": "NkT6vdZ2m0p7",
        "outputId": "01bfc0b4-4c91-4960-9722-f1b0d83441cb"
      },
      "source": [
        "X.head()"
      ],
      "execution_count": 403,
      "outputs": [
        {
          "output_type": "execute_result",
          "data": {
            "text/html": [
              "<div>\n",
              "<style scoped>\n",
              "    .dataframe tbody tr th:only-of-type {\n",
              "        vertical-align: middle;\n",
              "    }\n",
              "\n",
              "    .dataframe tbody tr th {\n",
              "        vertical-align: top;\n",
              "    }\n",
              "\n",
              "    .dataframe thead th {\n",
              "        text-align: right;\n",
              "    }\n",
              "</style>\n",
              "<table border=\"1\" class=\"dataframe\">\n",
              "  <thead>\n",
              "    <tr style=\"text-align: right;\">\n",
              "      <th></th>\n",
              "      <th>Total Transactions</th>\n",
              "      <th>Total Traded Shares</th>\n",
              "      <th>Total Traded Amount</th>\n",
              "      <th>Max. Price</th>\n",
              "      <th>Min. Price</th>\n",
              "    </tr>\n",
              "  </thead>\n",
              "  <tbody>\n",
              "    <tr>\n",
              "      <th>0</th>\n",
              "      <td>55.738462</td>\n",
              "      <td>25224.861538</td>\n",
              "      <td>9.710526e+06</td>\n",
              "      <td>328.384615</td>\n",
              "      <td>322.830769</td>\n",
              "    </tr>\n",
              "    <tr>\n",
              "      <th>1</th>\n",
              "      <td>55.200000</td>\n",
              "      <td>23940.323077</td>\n",
              "      <td>9.233672e+06</td>\n",
              "      <td>329.246154</td>\n",
              "      <td>323.707692</td>\n",
              "    </tr>\n",
              "    <tr>\n",
              "      <th>2</th>\n",
              "      <td>84.584615</td>\n",
              "      <td>32065.107692</td>\n",
              "      <td>1.251019e+07</td>\n",
              "      <td>331.353846</td>\n",
              "      <td>325.061538</td>\n",
              "    </tr>\n",
              "    <tr>\n",
              "      <th>3</th>\n",
              "      <td>93.369231</td>\n",
              "      <td>31559.261538</td>\n",
              "      <td>1.235030e+07</td>\n",
              "      <td>333.169231</td>\n",
              "      <td>327.000000</td>\n",
              "    </tr>\n",
              "    <tr>\n",
              "      <th>4</th>\n",
              "      <td>86.076923</td>\n",
              "      <td>27530.461538</td>\n",
              "      <td>1.078737e+07</td>\n",
              "      <td>334.123077</td>\n",
              "      <td>328.261538</td>\n",
              "    </tr>\n",
              "  </tbody>\n",
              "</table>\n",
              "</div>"
            ],
            "text/plain": [
              "   Total Transactions  Total Traded Shares  ...  Max. Price  Min. Price\n",
              "0           55.738462         25224.861538  ...  328.384615  322.830769\n",
              "1           55.200000         23940.323077  ...  329.246154  323.707692\n",
              "2           84.584615         32065.107692  ...  331.353846  325.061538\n",
              "3           93.369231         31559.261538  ...  333.169231  327.000000\n",
              "4           86.076923         27530.461538  ...  334.123077  328.261538\n",
              "\n",
              "[5 rows x 5 columns]"
            ]
          },
          "metadata": {
            "tags": []
          },
          "execution_count": 403
        }
      ]
    },
    {
      "cell_type": "code",
      "metadata": {
        "colab": {
          "base_uri": "https://localhost:8080/"
        },
        "id": "nDqMzFN4m0p8",
        "outputId": "16690712-5687-4b12-91e6-e9cd669af9a3"
      },
      "source": [
        "y.head()"
      ],
      "execution_count": 404,
      "outputs": [
        {
          "output_type": "execute_result",
          "data": {
            "text/plain": [
              "0    386\n",
              "1    390\n",
              "2    398\n",
              "3    396\n",
              "4    392\n",
              "Name: Close Price, dtype: int64"
            ]
          },
          "metadata": {
            "tags": []
          },
          "execution_count": 404
        }
      ]
    },
    {
      "cell_type": "code",
      "metadata": {
        "id": "qSvrgKl0m0p9"
      },
      "source": [
        "from sklearn.preprocessing import StandardScaler"
      ],
      "execution_count": 405,
      "outputs": []
    },
    {
      "cell_type": "code",
      "metadata": {
        "id": "7M_pLb0Mm0p9"
      },
      "source": [
        "from sklearn.ensemble import RandomForestRegressor\n",
        "from sklearn.svm import SVR\n",
        "from sklearn.model_selection import train_test_split\n",
        "from sklearn.metrics import roc_auc_score, mean_squared_error as MSE"
      ],
      "execution_count": 406,
      "outputs": []
    },
    {
      "cell_type": "code",
      "metadata": {
        "colab": {
          "base_uri": "https://localhost:8080/"
        },
        "id": "umKOWsR_m0p9",
        "outputId": "30b1ac2e-0dfa-440d-d2e7-e1d189490499"
      },
      "source": [
        "len(X)"
      ],
      "execution_count": 407,
      "outputs": [
        {
          "output_type": "execute_result",
          "data": {
            "text/plain": [
              "429"
            ]
          },
          "metadata": {
            "tags": []
          },
          "execution_count": 407
        }
      ]
    },
    {
      "cell_type": "code",
      "metadata": {
        "colab": {
          "base_uri": "https://localhost:8080/"
        },
        "id": "XgpiVPICm0p9",
        "outputId": "b69f26aa-965e-46e5-f1ce-1415852d2361"
      },
      "source": [
        "test_size = 0.2\n",
        "len_train_size = int(len(X) - (len(X)*test_size))\n",
        "len_train_size"
      ],
      "execution_count": 408,
      "outputs": [
        {
          "output_type": "execute_result",
          "data": {
            "text/plain": [
              "343"
            ]
          },
          "metadata": {
            "tags": []
          },
          "execution_count": 408
        }
      ]
    },
    {
      "cell_type": "code",
      "metadata": {
        "id": "ZL3Yf-imm0p-"
      },
      "source": [
        "X_train = X[:len_train_size]\n",
        "y_train = y[:len_train_size]\n",
        "X_test = X[len_train_size:]\n",
        "y_test = y[len_train_size:]"
      ],
      "execution_count": 409,
      "outputs": []
    },
    {
      "cell_type": "code",
      "metadata": {
        "colab": {
          "base_uri": "https://localhost:8080/",
          "height": 424
        },
        "id": "vcI_2-ejm0p_",
        "outputId": "0bb44707-fb82-41d1-91f6-3fc4e3f7dbf7"
      },
      "source": [
        "X_train"
      ],
      "execution_count": 410,
      "outputs": [
        {
          "output_type": "execute_result",
          "data": {
            "text/html": [
              "<div>\n",
              "<style scoped>\n",
              "    .dataframe tbody tr th:only-of-type {\n",
              "        vertical-align: middle;\n",
              "    }\n",
              "\n",
              "    .dataframe tbody tr th {\n",
              "        vertical-align: top;\n",
              "    }\n",
              "\n",
              "    .dataframe thead th {\n",
              "        text-align: right;\n",
              "    }\n",
              "</style>\n",
              "<table border=\"1\" class=\"dataframe\">\n",
              "  <thead>\n",
              "    <tr style=\"text-align: right;\">\n",
              "      <th></th>\n",
              "      <th>Total Transactions</th>\n",
              "      <th>Total Traded Shares</th>\n",
              "      <th>Total Traded Amount</th>\n",
              "      <th>Max. Price</th>\n",
              "      <th>Min. Price</th>\n",
              "    </tr>\n",
              "  </thead>\n",
              "  <tbody>\n",
              "    <tr>\n",
              "      <th>0</th>\n",
              "      <td>55.738462</td>\n",
              "      <td>25224.861538</td>\n",
              "      <td>9.710526e+06</td>\n",
              "      <td>328.384615</td>\n",
              "      <td>322.830769</td>\n",
              "    </tr>\n",
              "    <tr>\n",
              "      <th>1</th>\n",
              "      <td>55.200000</td>\n",
              "      <td>23940.323077</td>\n",
              "      <td>9.233672e+06</td>\n",
              "      <td>329.246154</td>\n",
              "      <td>323.707692</td>\n",
              "    </tr>\n",
              "    <tr>\n",
              "      <th>2</th>\n",
              "      <td>84.584615</td>\n",
              "      <td>32065.107692</td>\n",
              "      <td>1.251019e+07</td>\n",
              "      <td>331.353846</td>\n",
              "      <td>325.061538</td>\n",
              "    </tr>\n",
              "    <tr>\n",
              "      <th>3</th>\n",
              "      <td>93.369231</td>\n",
              "      <td>31559.261538</td>\n",
              "      <td>1.235030e+07</td>\n",
              "      <td>333.169231</td>\n",
              "      <td>327.000000</td>\n",
              "    </tr>\n",
              "    <tr>\n",
              "      <th>4</th>\n",
              "      <td>86.076923</td>\n",
              "      <td>27530.461538</td>\n",
              "      <td>1.078737e+07</td>\n",
              "      <td>334.123077</td>\n",
              "      <td>328.261538</td>\n",
              "    </tr>\n",
              "    <tr>\n",
              "      <th>...</th>\n",
              "      <td>...</td>\n",
              "      <td>...</td>\n",
              "      <td>...</td>\n",
              "      <td>...</td>\n",
              "      <td>...</td>\n",
              "    </tr>\n",
              "    <tr>\n",
              "      <th>338</th>\n",
              "      <td>334.446154</td>\n",
              "      <td>74896.123077</td>\n",
              "      <td>4.360570e+07</td>\n",
              "      <td>494.153846</td>\n",
              "      <td>483.769231</td>\n",
              "    </tr>\n",
              "    <tr>\n",
              "      <th>339</th>\n",
              "      <td>360.907692</td>\n",
              "      <td>89709.446154</td>\n",
              "      <td>5.243134e+07</td>\n",
              "      <td>497.476923</td>\n",
              "      <td>485.907692</td>\n",
              "    </tr>\n",
              "    <tr>\n",
              "      <th>340</th>\n",
              "      <td>413.015385</td>\n",
              "      <td>106007.230769</td>\n",
              "      <td>6.240624e+07</td>\n",
              "      <td>500.938462</td>\n",
              "      <td>489.446154</td>\n",
              "    </tr>\n",
              "    <tr>\n",
              "      <th>341</th>\n",
              "      <td>405.384615</td>\n",
              "      <td>100956.861538</td>\n",
              "      <td>5.956956e+07</td>\n",
              "      <td>504.953846</td>\n",
              "      <td>492.523077</td>\n",
              "    </tr>\n",
              "    <tr>\n",
              "      <th>342</th>\n",
              "      <td>419.046154</td>\n",
              "      <td>102775.461538</td>\n",
              "      <td>6.075344e+07</td>\n",
              "      <td>510.230769</td>\n",
              "      <td>493.461538</td>\n",
              "    </tr>\n",
              "  </tbody>\n",
              "</table>\n",
              "<p>343 rows × 5 columns</p>\n",
              "</div>"
            ],
            "text/plain": [
              "     Total Transactions  Total Traded Shares  ...  Max. Price  Min. Price\n",
              "0             55.738462         25224.861538  ...  328.384615  322.830769\n",
              "1             55.200000         23940.323077  ...  329.246154  323.707692\n",
              "2             84.584615         32065.107692  ...  331.353846  325.061538\n",
              "3             93.369231         31559.261538  ...  333.169231  327.000000\n",
              "4             86.076923         27530.461538  ...  334.123077  328.261538\n",
              "..                  ...                  ...  ...         ...         ...\n",
              "338          334.446154         74896.123077  ...  494.153846  483.769231\n",
              "339          360.907692         89709.446154  ...  497.476923  485.907692\n",
              "340          413.015385        106007.230769  ...  500.938462  489.446154\n",
              "341          405.384615        100956.861538  ...  504.953846  492.523077\n",
              "342          419.046154        102775.461538  ...  510.230769  493.461538\n",
              "\n",
              "[343 rows x 5 columns]"
            ]
          },
          "metadata": {
            "tags": []
          },
          "execution_count": 410
        }
      ]
    },
    {
      "cell_type": "code",
      "metadata": {
        "colab": {
          "base_uri": "https://localhost:8080/"
        },
        "id": "LH84iY3Om0p_",
        "outputId": "2b4fa110-2779-4511-a4bf-7ce7a5471d42"
      },
      "source": [
        "y_train"
      ],
      "execution_count": 411,
      "outputs": [
        {
          "output_type": "execute_result",
          "data": {
            "text/plain": [
              "0      386\n",
              "1      390\n",
              "2      398\n",
              "3      396\n",
              "4      392\n",
              "      ... \n",
              "338    581\n",
              "339    589\n",
              "340    599\n",
              "341    595\n",
              "342    588\n",
              "Name: Close Price, Length: 343, dtype: int64"
            ]
          },
          "metadata": {
            "tags": []
          },
          "execution_count": 411
        }
      ]
    },
    {
      "cell_type": "code",
      "metadata": {
        "colab": {
          "base_uri": "https://localhost:8080/"
        },
        "id": "hFIDheDLm0p_",
        "outputId": "97573eaf-7b44-4e8a-dc35-78a326e12b44"
      },
      "source": [
        "scaler = StandardScaler()\n",
        "X_train_scaled = scaler.fit_transform(X_train)\n",
        "# X_train_scaled[:,3] = X_train['Max. Price']\n",
        "# X_train_scaled[:,4] = X_train['Min. Price']\n",
        "X_train_scaled"
      ],
      "execution_count": 412,
      "outputs": [
        {
          "output_type": "execute_result",
          "data": {
            "text/plain": [
              "array([[-0.86149288, -0.54754897, -0.58831058, -1.20174987, -1.2157427 ],\n",
              "       [-0.86518046, -0.57831553, -0.60775937, -1.18584449, -1.19810065],\n",
              "       [-0.66394413, -0.38371516, -0.47412464, -1.14693314, -1.17086381],\n",
              "       ...,\n",
              "       [ 1.58526698,  1.38730594,  1.5609164 ,  1.98386886,  2.13624576],\n",
              "       [ 1.53300875,  1.26634227,  1.44522067,  2.05799925,  2.19814767],\n",
              "       [ 1.62656784,  1.30990038,  1.49350616,  2.15541966,  2.21702776]])"
            ]
          },
          "metadata": {
            "tags": []
          },
          "execution_count": 412
        }
      ]
    },
    {
      "cell_type": "code",
      "metadata": {
        "colab": {
          "base_uri": "https://localhost:8080/"
        },
        "id": "yKLW-vU8m0qA",
        "outputId": "cdb25647-0ae1-42b9-a079-d7fb2e6376f7"
      },
      "source": [
        "X_train_scaled"
      ],
      "execution_count": 413,
      "outputs": [
        {
          "output_type": "execute_result",
          "data": {
            "text/plain": [
              "array([[-0.86149288, -0.54754897, -0.58831058, -1.20174987, -1.2157427 ],\n",
              "       [-0.86518046, -0.57831553, -0.60775937, -1.18584449, -1.19810065],\n",
              "       [-0.66394413, -0.38371516, -0.47412464, -1.14693314, -1.17086381],\n",
              "       ...,\n",
              "       [ 1.58526698,  1.38730594,  1.5609164 ,  1.98386886,  2.13624576],\n",
              "       [ 1.53300875,  1.26634227,  1.44522067,  2.05799925,  2.19814767],\n",
              "       [ 1.62656784,  1.30990038,  1.49350616,  2.15541966,  2.21702776]])"
            ]
          },
          "metadata": {
            "tags": []
          },
          "execution_count": 413
        }
      ]
    },
    {
      "cell_type": "code",
      "metadata": {
        "colab": {
          "base_uri": "https://localhost:8080/"
        },
        "id": "pN_gHHLcm0qA",
        "outputId": "8073ebbe-4b91-4525-ad15-3ba511f70410"
      },
      "source": [
        "scaler.mean_"
      ],
      "execution_count": 414,
      "outputs": [
        {
          "output_type": "execute_result",
          "data": {
            "text/plain": [
              "array([1.81534021e+02, 4.80856471e+04, 2.41349890e+07, 3.93479211e+02,\n",
              "       3.83261000e+02])"
            ]
          },
          "metadata": {
            "tags": []
          },
          "execution_count": 414
        }
      ]
    },
    {
      "cell_type": "code",
      "metadata": {
        "colab": {
          "base_uri": "https://localhost:8080/"
        },
        "id": "STMZfbism0qC",
        "outputId": "44c4c850-6907-42ca-c593-7761584f3321"
      },
      "source": [
        "model = RandomForestRegressor(n_estimators=200,max_depth=100,bootstrap=True)\n",
        "model.fit(X_train,y_train)\n",
        "\n"
      ],
      "execution_count": 415,
      "outputs": [
        {
          "output_type": "execute_result",
          "data": {
            "text/plain": [
              "RandomForestRegressor(bootstrap=True, ccp_alpha=0.0, criterion='mse',\n",
              "                      max_depth=100, max_features='auto', max_leaf_nodes=None,\n",
              "                      max_samples=None, min_impurity_decrease=0.0,\n",
              "                      min_impurity_split=None, min_samples_leaf=1,\n",
              "                      min_samples_split=2, min_weight_fraction_leaf=0.0,\n",
              "                      n_estimators=200, n_jobs=None, oob_score=False,\n",
              "                      random_state=None, verbose=0, warm_start=False)"
            ]
          },
          "metadata": {
            "tags": []
          },
          "execution_count": 415
        }
      ]
    },
    {
      "cell_type": "code",
      "metadata": {
        "id": "FjOfpmIUm0qC"
      },
      "source": [
        "X_test_scaled = scaler.transform(X_test)\n",
        "y_pred = model.predict(X_test)"
      ],
      "execution_count": 416,
      "outputs": []
    },
    {
      "cell_type": "code",
      "metadata": {
        "colab": {
          "base_uri": "https://localhost:8080/"
        },
        "id": "lsxlwg2Wm0qD",
        "outputId": "4e4e2f0c-a0ab-4d17-ba7c-cbd37935f220"
      },
      "source": [
        "\n",
        "rmse = MSE(y_pred,y_test)**(1/2)\n",
        "rmse\n"
      ],
      "execution_count": 417,
      "outputs": [
        {
          "output_type": "execute_result",
          "data": {
            "text/plain": [
              "126.98159726584812"
            ]
          },
          "metadata": {
            "tags": []
          },
          "execution_count": 417
        }
      ]
    },
    {
      "cell_type": "code",
      "metadata": {
        "colab": {
          "base_uri": "https://localhost:8080/",
          "height": 424
        },
        "id": "b9MS5ASQm0qD",
        "outputId": "1bdc44fa-583f-4737-c32c-15a76f381402"
      },
      "source": [
        "df_avg[df_avg['Date'].index>=len_train_size]"
      ],
      "execution_count": 418,
      "outputs": [
        {
          "output_type": "execute_result",
          "data": {
            "text/html": [
              "<div>\n",
              "<style scoped>\n",
              "    .dataframe tbody tr th:only-of-type {\n",
              "        vertical-align: middle;\n",
              "    }\n",
              "\n",
              "    .dataframe tbody tr th {\n",
              "        vertical-align: top;\n",
              "    }\n",
              "\n",
              "    .dataframe thead th {\n",
              "        text-align: right;\n",
              "    }\n",
              "</style>\n",
              "<table border=\"1\" class=\"dataframe\">\n",
              "  <thead>\n",
              "    <tr style=\"text-align: right;\">\n",
              "      <th></th>\n",
              "      <th>Date</th>\n",
              "      <th>Total Transactions</th>\n",
              "      <th>Total Traded Shares</th>\n",
              "      <th>Total Traded Amount</th>\n",
              "      <th>Max. Price</th>\n",
              "      <th>Min. Price</th>\n",
              "      <th>Close Price</th>\n",
              "    </tr>\n",
              "  </thead>\n",
              "  <tbody>\n",
              "    <tr>\n",
              "      <th>343</th>\n",
              "      <td>2020-09-07</td>\n",
              "      <td>407.630769</td>\n",
              "      <td>96657.507692</td>\n",
              "      <td>5.707282e+07</td>\n",
              "      <td>509.661538</td>\n",
              "      <td>493.046154</td>\n",
              "      <td>577</td>\n",
              "    </tr>\n",
              "    <tr>\n",
              "      <th>344</th>\n",
              "      <td>2020-09-08</td>\n",
              "      <td>375.323077</td>\n",
              "      <td>86171.676923</td>\n",
              "      <td>5.081135e+07</td>\n",
              "      <td>507.230769</td>\n",
              "      <td>491.415385</td>\n",
              "      <td>579</td>\n",
              "    </tr>\n",
              "    <tr>\n",
              "      <th>345</th>\n",
              "      <td>2020-09-09</td>\n",
              "      <td>356.353846</td>\n",
              "      <td>78551.984615</td>\n",
              "      <td>4.618986e+07</td>\n",
              "      <td>504.753846</td>\n",
              "      <td>489.907692</td>\n",
              "      <td>577</td>\n",
              "    </tr>\n",
              "    <tr>\n",
              "      <th>346</th>\n",
              "      <td>2020-09-10</td>\n",
              "      <td>323.692308</td>\n",
              "      <td>69122.107692</td>\n",
              "      <td>4.055418e+07</td>\n",
              "      <td>502.876923</td>\n",
              "      <td>489.200000</td>\n",
              "      <td>576</td>\n",
              "    </tr>\n",
              "    <tr>\n",
              "      <th>347</th>\n",
              "      <td>2020-09-13</td>\n",
              "      <td>313.584615</td>\n",
              "      <td>68745.784615</td>\n",
              "      <td>4.019572e+07</td>\n",
              "      <td>501.369231</td>\n",
              "      <td>488.200000</td>\n",
              "      <td>587</td>\n",
              "    </tr>\n",
              "    <tr>\n",
              "      <th>...</th>\n",
              "      <td>...</td>\n",
              "      <td>...</td>\n",
              "      <td>...</td>\n",
              "      <td>...</td>\n",
              "      <td>...</td>\n",
              "      <td>...</td>\n",
              "      <td>...</td>\n",
              "    </tr>\n",
              "    <tr>\n",
              "      <th>424</th>\n",
              "      <td>2021-01-06</td>\n",
              "      <td>862.738462</td>\n",
              "      <td>204370.323077</td>\n",
              "      <td>1.793202e+08</td>\n",
              "      <td>755.123077</td>\n",
              "      <td>733.000000</td>\n",
              "      <td>892</td>\n",
              "    </tr>\n",
              "    <tr>\n",
              "      <th>425</th>\n",
              "      <td>2021-01-07</td>\n",
              "      <td>860.492308</td>\n",
              "      <td>200301.353846</td>\n",
              "      <td>1.774677e+08</td>\n",
              "      <td>760.446154</td>\n",
              "      <td>739.107692</td>\n",
              "      <td>908</td>\n",
              "    </tr>\n",
              "    <tr>\n",
              "      <th>426</th>\n",
              "      <td>2021-01-10</td>\n",
              "      <td>838.123077</td>\n",
              "      <td>189781.815385</td>\n",
              "      <td>1.699183e+08</td>\n",
              "      <td>767.876923</td>\n",
              "      <td>747.107692</td>\n",
              "      <td>927</td>\n",
              "    </tr>\n",
              "    <tr>\n",
              "      <th>427</th>\n",
              "      <td>2021-01-11</td>\n",
              "      <td>781.015385</td>\n",
              "      <td>178643.769231</td>\n",
              "      <td>1.612144e+08</td>\n",
              "      <td>778.092308</td>\n",
              "      <td>753.800000</td>\n",
              "      <td>915</td>\n",
              "    </tr>\n",
              "    <tr>\n",
              "      <th>428</th>\n",
              "      <td>2021-01-12</td>\n",
              "      <td>714.830769</td>\n",
              "      <td>164003.692308</td>\n",
              "      <td>1.486014e+08</td>\n",
              "      <td>784.630769</td>\n",
              "      <td>758.015385</td>\n",
              "      <td>918</td>\n",
              "    </tr>\n",
              "  </tbody>\n",
              "</table>\n",
              "<p>86 rows × 7 columns</p>\n",
              "</div>"
            ],
            "text/plain": [
              "          Date  Total Transactions  ...  Min. Price  Close Price\n",
              "343 2020-09-07          407.630769  ...  493.046154          577\n",
              "344 2020-09-08          375.323077  ...  491.415385          579\n",
              "345 2020-09-09          356.353846  ...  489.907692          577\n",
              "346 2020-09-10          323.692308  ...  489.200000          576\n",
              "347 2020-09-13          313.584615  ...  488.200000          587\n",
              "..         ...                 ...  ...         ...          ...\n",
              "424 2021-01-06          862.738462  ...  733.000000          892\n",
              "425 2021-01-07          860.492308  ...  739.107692          908\n",
              "426 2021-01-10          838.123077  ...  747.107692          927\n",
              "427 2021-01-11          781.015385  ...  753.800000          915\n",
              "428 2021-01-12          714.830769  ...  758.015385          918\n",
              "\n",
              "[86 rows x 7 columns]"
            ]
          },
          "metadata": {
            "tags": []
          },
          "execution_count": 418
        }
      ]
    },
    {
      "cell_type": "code",
      "metadata": {
        "colab": {
          "base_uri": "https://localhost:8080/",
          "height": 295
        },
        "id": "MF1alDTzm0qD",
        "outputId": "352839ad-7f8f-43dd-f660-799470e5777c"
      },
      "source": [
        "def plot_trend():\n",
        "    plt.plot(df_avg[df_avg['Date'].index>=len_train_size]['Date'],y_pred,label='Prediction')\n",
        "    plt.plot(df_avg[df_avg['Date'].index>=len_train_size]['Date'],y_test,label='Real')\n",
        "    # plt.plot(df['Date'],df['Close Price'],label=name)\n",
        "        \n",
        "    plt.title('Pred vs Real')\n",
        "    plt.xlabel(\"Date\")\n",
        "    plt.legend()\n",
        "    plt.ylabel(\"Closing Price\")\n",
        "\n",
        "    plt.show()\n",
        "plot_trend()"
      ],
      "execution_count": 419,
      "outputs": [
        {
          "output_type": "display_data",
          "data": {
            "image/png": "[encoded data removed]",
            "text/plain": [
              "<Figure size 432x288 with 1 Axes>"
            ]
          },
          "metadata": {
            "tags": [],
            "needs_background": "light"
          }
        }
      ]
    },
    {
      "cell_type": "code",
      "metadata": {
        "colab": {
          "base_uri": "https://localhost:8080/"
        },
        "id": "pIZyr0lnm0qE",
        "outputId": "6edf6264-6351-4fa7-b691-252125efae8d"
      },
      "source": [
        "model.feature_importances_"
      ],
      "execution_count": 420,
      "outputs": [
        {
          "output_type": "execute_result",
          "data": {
            "text/plain": [
              "array([0.01155454, 0.00975522, 0.01091041, 0.64108084, 0.32669899])"
            ]
          },
          "metadata": {
            "tags": []
          },
          "execution_count": 420
        }
      ]
    },
    {
      "cell_type": "code",
      "metadata": {
        "colab": {
          "base_uri": "https://localhost:8080/"
        },
        "id": "uPoPd1MTm0qE",
        "outputId": "2cea70e2-c6e2-4bbd-c927-5e0e3c90fbf3"
      },
      "source": [
        "svr = SVR()\n",
        "svr.fit(X_train,y_train)"
      ],
      "execution_count": 421,
      "outputs": [
        {
          "output_type": "execute_result",
          "data": {
            "text/plain": [
              "SVR(C=1.0, cache_size=200, coef0=0.0, degree=3, epsilon=0.1, gamma='scale',\n",
              "    kernel='rbf', max_iter=-1, shrinking=True, tol=0.001, verbose=False)"
            ]
          },
          "metadata": {
            "tags": []
          },
          "execution_count": 421
        }
      ]
    },
    {
      "cell_type": "code",
      "metadata": {
        "id": "rFsoVGrMm0qE"
      },
      "source": [
        "X_test_scaled = scaler.transform(X_test)\n",
        "# X_test_scaled[:,3] = X_test['Max. Price']\n",
        "# X_test_scaled[:,4] = X_test['Min. Price']\n",
        "y_pred = svr.predict(X_test)"
      ],
      "execution_count": 422,
      "outputs": []
    },
    {
      "cell_type": "code",
      "metadata": {
        "colab": {
          "base_uri": "https://localhost:8080/"
        },
        "id": "AuTJbdHcm0qE",
        "outputId": "3f365e2e-62fe-4fdf-a84c-8b112f126818"
      },
      "source": [
        "\n",
        "rmse = MSE(y_pred,y_test)**(1/2)\n",
        "rmse\n"
      ],
      "execution_count": 423,
      "outputs": [
        {
          "output_type": "execute_result",
          "data": {
            "text/plain": [
              "209.2794224507677"
            ]
          },
          "metadata": {
            "tags": []
          },
          "execution_count": 423
        }
      ]
    },
    {
      "cell_type": "code",
      "metadata": {
        "colab": {
          "base_uri": "https://localhost:8080/",
          "height": 295
        },
        "id": "k65xrQQFm0qF",
        "outputId": "1f34f825-0c9c-4001-b7d0-fabaef3cfaad"
      },
      "source": [
        "plot_trend()"
      ],
      "execution_count": 424,
      "outputs": [
        {
          "output_type": "display_data",
          "data": {
            "image/png": "[encoded data removed]",
            "text/plain": [
              "<Figure size 432x288 with 1 Axes>"
            ]
          },
          "metadata": {
            "tags": [],
            "needs_background": "light"
          }
        }
      ]
    },
    {
      "cell_type": "code",
      "metadata": {
        "id": "pe4iP8YEm0qF"
      },
      "source": [
        "from sklearn.ensemble import GradientBoostingRegressor"
      ],
      "execution_count": 425,
      "outputs": []
    },
    {
      "cell_type": "code",
      "metadata": {
        "colab": {
          "base_uri": "https://localhost:8080/"
        },
        "id": "ydlm7RRtm0qG",
        "outputId": "864a15c5-4a13-44c4-e34b-a8b900800eaf"
      },
      "source": [
        "gb = GradientBoostingRegressor()\n",
        "gb.fit(X_train,y_train)"
      ],
      "execution_count": 426,
      "outputs": [
        {
          "output_type": "execute_result",
          "data": {
            "text/plain": [
              "GradientBoostingRegressor(alpha=0.9, ccp_alpha=0.0, criterion='friedman_mse',\n",
              "                          init=None, learning_rate=0.1, loss='ls', max_depth=3,\n",
              "                          max_features=None, max_leaf_nodes=None,\n",
              "                          min_impurity_decrease=0.0, min_impurity_split=None,\n",
              "                          min_samples_leaf=1, min_samples_split=2,\n",
              "                          min_weight_fraction_leaf=0.0, n_estimators=100,\n",
              "                          n_iter_no_change=None, presort='deprecated',\n",
              "                          random_state=None, subsample=1.0, tol=0.0001,\n",
              "                          validation_fraction=0.1, verbose=0, warm_start=False)"
            ]
          },
          "metadata": {
            "tags": []
          },
          "execution_count": 426
        }
      ]
    },
    {
      "cell_type": "code",
      "metadata": {
        "id": "nbsSPQRLm0qG"
      },
      "source": [
        "X_test_scaled = scaler.transform(X_test)\n",
        "# X_test_scaled[:,3] = X_test['Max. Price']\n",
        "# X_test_scaled[:,4] = X_test['Min. Price']\n",
        "y_pred = gb.predict(X_test)"
      ],
      "execution_count": 427,
      "outputs": []
    },
    {
      "cell_type": "code",
      "metadata": {
        "colab": {
          "base_uri": "https://localhost:8080/"
        },
        "id": "zAr9ToC9m0qH",
        "outputId": "537defbc-0abe-4c87-a8e1-51c3e3665796"
      },
      "source": [
        "\n",
        "rmse = MSE(y_pred,y_test)**(1/2)\n",
        "rmse\n"
      ],
      "execution_count": 428,
      "outputs": [
        {
          "output_type": "execute_result",
          "data": {
            "text/plain": [
              "122.27291757915155"
            ]
          },
          "metadata": {
            "tags": []
          },
          "execution_count": 428
        }
      ]
    },
    {
      "cell_type": "code",
      "metadata": {
        "colab": {
          "base_uri": "https://localhost:8080/",
          "height": 295
        },
        "id": "HIbmad6Am0qH",
        "outputId": "9a9209af-bfbd-4e9a-afd2-007ae1fc41ff"
      },
      "source": [
        "plot_trend()\n"
      ],
      "execution_count": 429,
      "outputs": [
        {
          "output_type": "display_data",
          "data": {
            "image/png": "[encoded data removed]",
            "text/plain": [
              "<Figure size 432x288 with 1 Axes>"
            ]
          },
          "metadata": {
            "tags": [],
            "needs_background": "light"
          }
        }
      ]
    },
    {
      "cell_type": "code",
      "metadata": {
        "id": "dFL5wzLxm0qI"
      },
      "source": [
        "import tensorflow as tf\n",
        "from tensorflow.keras.layers import Dense, LSTM, Dropout"
      ],
      "execution_count": 430,
      "outputs": []
    },
    {
      "cell_type": "code",
      "metadata": {
        "id": "dNRc6jYhqSSK"
      },
      "source": [
        "roll=10"
      ],
      "execution_count": 431,
      "outputs": []
    },
    {
      "cell_type": "code",
      "metadata": {
        "colab": {
          "base_uri": "https://localhost:8080/"
        },
        "id": "KFoKrch2odLG",
        "outputId": "80288498-6d91-4d66-a115-7d771ef9170b"
      },
      "source": [
        "lstm_model = tf.keras.models.Sequential([\n",
        "      LSTM(256,return_sequences=True, input_shape=(roll,1),activation='relu'),\n",
        "      Dropout(0.2),\n",
        "      LSTM(128,activation='relu'),\n",
        "      Dropout(0.2),\n",
        "\n",
        "      Dense(64,activation='relu'),\n",
        "      Dropout(0.2),\n",
        "\n",
        "      Dense(1,activation='relu')\n",
        "\n",
        "])"
      ],
      "execution_count": 486,
      "outputs": [
        {
          "output_type": "stream",
          "text": [
            "WARNING:tensorflow:Layer lstm_20 will not use cuDNN kernel since it doesn't meet the cuDNN kernel criteria. It will use generic GPU kernel as fallback when running on GPU\n",
            "WARNING:tensorflow:Layer lstm_21 will not use cuDNN kernel since it doesn't meet the cuDNN kernel criteria. It will use generic GPU kernel as fallback when running on GPU\n"
          ],
          "name": "stdout"
        }
      ]
    },
    {
      "cell_type": "code",
      "metadata": {
        "colab": {
          "base_uri": "https://localhost:8080/"
        },
        "id": "zdvffi3PqFkG",
        "outputId": "a8e99bdf-7e0e-45c5-af5d-5b28d0d239e6"
      },
      "source": [
        "lstm_model.summary()"
      ],
      "execution_count": 487,
      "outputs": [
        {
          "output_type": "stream",
          "text": [
            "Model: \"sequential_9\"\n",
            "_________________________________________________________________\n",
            "Layer (type)                 Output Shape              Param #   \n",
            "=================================================================\n",
            "lstm_20 (LSTM)               (None, 10, 256)           264192    \n",
            "_________________________________________________________________\n",
            "dropout_6 (Dropout)          (None, 10, 256)           0         \n",
            "_________________________________________________________________\n",
            "lstm_21 (LSTM)               (None, 128)               197120    \n",
            "_________________________________________________________________\n",
            "dropout_7 (Dropout)          (None, 128)               0         \n",
            "_________________________________________________________________\n",
            "dense_19 (Dense)             (None, 64)                8256      \n",
            "_________________________________________________________________\n",
            "dropout_8 (Dropout)          (None, 64)                0         \n",
            "_________________________________________________________________\n",
            "dense_20 (Dense)             (None, 1)                 65        \n",
            "=================================================================\n",
            "Total params: 469,633\n",
            "Trainable params: 469,633\n",
            "Non-trainable params: 0\n",
            "_________________________________________________________________\n"
          ],
          "name": "stdout"
        }
      ]
    },
    {
      "cell_type": "code",
      "metadata": {
        "id": "FMMa9FZzqOvB"
      },
      "source": [
        "lstm_model.compile(loss='mse',optimizer='adam')"
      ],
      "execution_count": 488,
      "outputs": []
    },
    {
      "cell_type": "code",
      "metadata": {
        "id": "_tVDqGCLqg_x"
      },
      "source": [
        "def split_sequence(sequence, roll):\n",
        "  X, y = list(), list()\n",
        "  for i in range(len(sequence)):\n",
        "    # find the end of this pattern\n",
        "    end_ix = i + roll\n",
        "    # check if we are beyond the sequence\n",
        "    if end_ix > len(sequence)-1:\n",
        "      break\n",
        "    # gather input and output parts of the pattern\n",
        "    seq_x = sequence[i:end_ix]\n",
        "    seq_y = sequence[end_ix]\n",
        "    X.append(seq_x)\n",
        "    y.append(seq_y)\n",
        "  return np.array(X), np.array(y)"
      ],
      "execution_count": 489,
      "outputs": []
    },
    {
      "cell_type": "code",
      "metadata": {
        "colab": {
          "base_uri": "https://localhost:8080/",
          "height": 424
        },
        "id": "DOzommtIrE8V",
        "outputId": "760ea5e2-33d0-40de-8472-af62d1700f16"
      },
      "source": [
        "df"
      ],
      "execution_count": 490,
      "outputs": [
        {
          "output_type": "execute_result",
          "data": {
            "text/html": [
              "<div>\n",
              "<style scoped>\n",
              "    .dataframe tbody tr th:only-of-type {\n",
              "        vertical-align: middle;\n",
              "    }\n",
              "\n",
              "    .dataframe tbody tr th {\n",
              "        vertical-align: top;\n",
              "    }\n",
              "\n",
              "    .dataframe thead th {\n",
              "        text-align: right;\n",
              "    }\n",
              "</style>\n",
              "<table border=\"1\" class=\"dataframe\">\n",
              "  <thead>\n",
              "    <tr style=\"text-align: right;\">\n",
              "      <th></th>\n",
              "      <th>Date</th>\n",
              "      <th>Total Transactions</th>\n",
              "      <th>Total Traded Shares</th>\n",
              "      <th>Total Traded Amount</th>\n",
              "      <th>Max. Price</th>\n",
              "      <th>Min. Price</th>\n",
              "      <th>Close Price</th>\n",
              "    </tr>\n",
              "  </thead>\n",
              "  <tbody>\n",
              "    <tr>\n",
              "      <th>0</th>\n",
              "      <td>2019-01-01</td>\n",
              "      <td>30</td>\n",
              "      <td>7155</td>\n",
              "      <td>2707400</td>\n",
              "      <td>383</td>\n",
              "      <td>377</td>\n",
              "      <td>380</td>\n",
              "    </tr>\n",
              "    <tr>\n",
              "      <th>1</th>\n",
              "      <td>2019-01-02</td>\n",
              "      <td>43</td>\n",
              "      <td>19408</td>\n",
              "      <td>7370888</td>\n",
              "      <td>382</td>\n",
              "      <td>378</td>\n",
              "      <td>382</td>\n",
              "    </tr>\n",
              "    <tr>\n",
              "      <th>2</th>\n",
              "      <td>2019-01-03</td>\n",
              "      <td>44</td>\n",
              "      <td>8316</td>\n",
              "      <td>3179485</td>\n",
              "      <td>385</td>\n",
              "      <td>381</td>\n",
              "      <td>383</td>\n",
              "    </tr>\n",
              "    <tr>\n",
              "      <th>3</th>\n",
              "      <td>2019-01-06</td>\n",
              "      <td>48</td>\n",
              "      <td>9575</td>\n",
              "      <td>3631962</td>\n",
              "      <td>383</td>\n",
              "      <td>377</td>\n",
              "      <td>377</td>\n",
              "    </tr>\n",
              "    <tr>\n",
              "      <th>4</th>\n",
              "      <td>2019-01-07</td>\n",
              "      <td>45</td>\n",
              "      <td>17398</td>\n",
              "      <td>6606274</td>\n",
              "      <td>383</td>\n",
              "      <td>377</td>\n",
              "      <td>379</td>\n",
              "    </tr>\n",
              "    <tr>\n",
              "      <th>...</th>\n",
              "      <td>...</td>\n",
              "      <td>...</td>\n",
              "      <td>...</td>\n",
              "      <td>...</td>\n",
              "      <td>...</td>\n",
              "      <td>...</td>\n",
              "      <td>...</td>\n",
              "    </tr>\n",
              "    <tr>\n",
              "      <th>435</th>\n",
              "      <td>2021-01-10</td>\n",
              "      <td>981</td>\n",
              "      <td>194033</td>\n",
              "      <td>179425191</td>\n",
              "      <td>935</td>\n",
              "      <td>910</td>\n",
              "      <td>927</td>\n",
              "    </tr>\n",
              "    <tr>\n",
              "      <th>436</th>\n",
              "      <td>2021-01-11</td>\n",
              "      <td>707</td>\n",
              "      <td>176512</td>\n",
              "      <td>163009521</td>\n",
              "      <td>963</td>\n",
              "      <td>912</td>\n",
              "      <td>915</td>\n",
              "    </tr>\n",
              "    <tr>\n",
              "      <th>437</th>\n",
              "      <td>2021-01-12</td>\n",
              "      <td>564</td>\n",
              "      <td>135414</td>\n",
              "      <td>123833420</td>\n",
              "      <td>950</td>\n",
              "      <td>907</td>\n",
              "      <td>918</td>\n",
              "    </tr>\n",
              "    <tr>\n",
              "      <th>438</th>\n",
              "      <td>2021-01-13</td>\n",
              "      <td>595</td>\n",
              "      <td>174132</td>\n",
              "      <td>159386980</td>\n",
              "      <td>936</td>\n",
              "      <td>907</td>\n",
              "      <td>912</td>\n",
              "    </tr>\n",
              "    <tr>\n",
              "      <th>439</th>\n",
              "      <td>2021-01-17</td>\n",
              "      <td>989</td>\n",
              "      <td>254035</td>\n",
              "      <td>229024879</td>\n",
              "      <td>925</td>\n",
              "      <td>896</td>\n",
              "      <td>901</td>\n",
              "    </tr>\n",
              "  </tbody>\n",
              "</table>\n",
              "<p>440 rows × 7 columns</p>\n",
              "</div>"
            ],
            "text/plain": [
              "          Date  Total Transactions  ...  Min. Price  Close Price\n",
              "0   2019-01-01                  30  ...         377          380\n",
              "1   2019-01-02                  43  ...         378          382\n",
              "2   2019-01-03                  44  ...         381          383\n",
              "3   2019-01-06                  48  ...         377          377\n",
              "4   2019-01-07                  45  ...         377          379\n",
              "..         ...                 ...  ...         ...          ...\n",
              "435 2021-01-10                 981  ...         910          927\n",
              "436 2021-01-11                 707  ...         912          915\n",
              "437 2021-01-12                 564  ...         907          918\n",
              "438 2021-01-13                 595  ...         907          912\n",
              "439 2021-01-17                 989  ...         896          901\n",
              "\n",
              "[440 rows x 7 columns]"
            ]
          },
          "metadata": {
            "tags": []
          },
          "execution_count": 490
        }
      ]
    },
    {
      "cell_type": "code",
      "metadata": {
        "colab": {
          "base_uri": "https://localhost:8080/"
        },
        "id": "IovqGZW8rt_I",
        "outputId": "5cc675f5-7882-4507-e8de-0b355ede80e7"
      },
      "source": [
        "data = df['Close Price']\n",
        "\n",
        "data.head()"
      ],
      "execution_count": 491,
      "outputs": [
        {
          "output_type": "execute_result",
          "data": {
            "text/plain": [
              "0    380\n",
              "1    382\n",
              "2    383\n",
              "3    377\n",
              "4    379\n",
              "Name: Close Price, dtype: int64"
            ]
          },
          "metadata": {
            "tags": []
          },
          "execution_count": 491
        }
      ]
    },
    {
      "cell_type": "code",
      "metadata": {
        "id": "4yU3dkUmrY3I"
      },
      "source": [
        "train_length = int(0.7* len(data))\n",
        "train_data = data[:train_length]\n",
        "test_data = data[train_length:]"
      ],
      "execution_count": 492,
      "outputs": []
    },
    {
      "cell_type": "code",
      "metadata": {
        "colab": {
          "base_uri": "https://localhost:8080/"
        },
        "id": "EtfJxfqCsI4x",
        "outputId": "b6a66c6e-6550-49a7-86ca-dfc573a4deb4"
      },
      "source": [
        "data"
      ],
      "execution_count": 493,
      "outputs": [
        {
          "output_type": "execute_result",
          "data": {
            "text/plain": [
              "0      380\n",
              "1      382\n",
              "2      383\n",
              "3      377\n",
              "4      379\n",
              "      ... \n",
              "435    927\n",
              "436    915\n",
              "437    918\n",
              "438    912\n",
              "439    901\n",
              "Name: Close Price, Length: 440, dtype: int64"
            ]
          },
          "metadata": {
            "tags": []
          },
          "execution_count": 493
        }
      ]
    },
    {
      "cell_type": "code",
      "metadata": {
        "colab": {
          "base_uri": "https://localhost:8080/"
        },
        "id": "peayYsift_xp",
        "outputId": "25db0a1f-0dca-4a93-8554-3aeb5f78a9af"
      },
      "source": [
        "train_data"
      ],
      "execution_count": 494,
      "outputs": [
        {
          "output_type": "execute_result",
          "data": {
            "text/plain": [
              "0      380\n",
              "1      382\n",
              "2      383\n",
              "3      377\n",
              "4      379\n",
              "      ... \n",
              "303    468\n",
              "304    469\n",
              "305    506\n",
              "306    525\n",
              "307    485\n",
              "Name: Close Price, Length: 308, dtype: int64"
            ]
          },
          "metadata": {
            "tags": []
          },
          "execution_count": 494
        }
      ]
    },
    {
      "cell_type": "code",
      "metadata": {
        "colab": {
          "base_uri": "https://localhost:8080/"
        },
        "id": "amDcQgeoqtOQ",
        "outputId": "3815dbc9-92b6-47c0-bcad-c50b74f423d7"
      },
      "source": [
        "new_X_train, new_y_train = split_sequence(np.array(train_data),roll)\n",
        "new_X_train,new_y_train"
      ],
      "execution_count": 495,
      "outputs": [
        {
          "output_type": "execute_result",
          "data": {
            "text/plain": [
              "(array([[380, 382, 383, ..., 390, 384, 386],\n",
              "        [382, 383, 377, ..., 384, 386, 390],\n",
              "        [383, 377, 379, ..., 386, 390, 398],\n",
              "        ...,\n",
              "        [550, 518, 522, ..., 482, 468, 469],\n",
              "        [518, 522, 508, ..., 468, 469, 506],\n",
              "        [522, 508, 502, ..., 469, 506, 525]]),\n",
              " array([390, 398, 396, 392, 389, 390, 392, 392, 391, 393, 390, 392, 391,\n",
              "        390, 389, 389, 387, 390, 385, 386, 386, 384, 384, 387, 385, 389,\n",
              "        387, 384, 370, 374, 376, 378, 378, 381, 385, 391, 394, 400, 401,\n",
              "        399, 399, 401, 398, 399, 395, 396, 398, 398, 398, 398, 400, 410,\n",
              "        426, 436, 440, 468, 466, 458, 466, 469, 470, 492, 487, 482, 494,\n",
              "        484, 490, 506, 507, 502, 496, 495, 491, 483, 496, 494, 493, 488,\n",
              "        498, 487, 493, 491, 490, 484, 483, 482, 484, 484, 477, 480, 480,\n",
              "        480, 485, 478, 468, 470, 460, 451, 457, 458, 454, 451, 454, 461,\n",
              "        466, 471, 466, 467, 469, 467, 463, 456, 456, 455, 462, 462, 458,\n",
              "        452, 449, 445, 445, 443, 446, 448, 456, 459, 461, 463, 465, 474,\n",
              "        467, 459, 462, 465, 468, 467, 467, 465, 458, 453, 449, 449, 450,\n",
              "        449, 443, 444, 451, 460, 453, 454, 454, 448, 447, 447, 439, 439,\n",
              "        440, 436, 449, 451, 449, 448, 448, 448, 448, 447, 448, 391, 380,\n",
              "        387, 395, 387, 383, 379, 379, 376, 375, 375, 378, 384, 384, 389,\n",
              "        385, 378, 385, 386, 386, 382, 384, 391, 398, 411, 408, 405, 400,\n",
              "        397, 400, 399, 400, 404, 398, 399, 406, 418, 417, 411, 410, 404,\n",
              "        400, 405, 406, 408, 406, 406, 404, 405, 403, 407, 405, 410, 410,\n",
              "        414, 414, 421, 418, 414, 416, 413, 415, 415, 414, 413, 412, 408,\n",
              "        405, 408, 411, 413, 427, 440, 438, 434, 433, 446, 450, 443, 472,\n",
              "        475, 477, 479, 482, 478, 472, 467, 471, 475, 470, 480, 492, 488,\n",
              "        481, 482, 481, 483, 488, 503, 508, 503, 511, 539, 548, 547, 554,\n",
              "        596, 594, 595, 610, 660, 639, 603, 608, 577, 575, 526, 567, 550,\n",
              "        518, 522, 508, 502, 509, 496, 482, 468, 469, 506, 525, 485]))"
            ]
          },
          "metadata": {
            "tags": []
          },
          "execution_count": 495
        }
      ]
    },
    {
      "cell_type": "code",
      "metadata": {
        "colab": {
          "base_uri": "https://localhost:8080/"
        },
        "id": "END375WQtjFT",
        "outputId": "6d08e72f-76e5-4da1-fe31-63131ec3e367"
      },
      "source": [
        "scaler = StandardScaler()\n",
        "new_X_train = scaler.fit_transform(new_X_train)\n",
        "new_X_train"
      ],
      "execution_count": 496,
      "outputs": [
        {
          "output_type": "execute_result",
          "data": {
            "text/plain": [
              "array([[-1.17480692, -1.14439939, -1.13301617, ..., -1.03809283,\n",
              "        -1.16015196, -1.12892201],\n",
              "       [-1.1366039 , -1.1253047 , -1.24758652, ..., -1.15330045,\n",
              "        -1.12177002, -1.05228903],\n",
              "       [-1.11750239, -1.23987279, -1.2093964 , ..., -1.11489791,\n",
              "        -1.04500615, -0.89902308],\n",
              "       ...,\n",
              "       [ 2.07244965,  1.45247734,  1.52119691, ...,  0.72842403,\n",
              "         0.45188933,  0.46121221],\n",
              "       [ 1.46120136,  1.52885607,  1.2538661 , ...,  0.45960624,\n",
              "         0.4710803 ,  1.17006723],\n",
              "       [ 1.53760739,  1.26153052,  1.13929575, ...,  0.47880751,\n",
              "         1.18114611,  1.53407385]])"
            ]
          },
          "metadata": {
            "tags": []
          },
          "execution_count": 496
        }
      ]
    },
    {
      "cell_type": "code",
      "metadata": {
        "colab": {
          "base_uri": "https://localhost:8080/"
        },
        "id": "B66UvniCvbT_",
        "outputId": "e71fe780-68c6-4742-a85b-107e57a936c7"
      },
      "source": [
        "scaler.mean_,scaler.var_,len(scaler.mean_)"
      ],
      "execution_count": 497,
      "outputs": [
        {
          "output_type": "execute_result",
          "data": {
            "text/plain": [
              "(array([441.5033557 , 441.93288591, 442.33557047, 442.75838926,\n",
              "        443.15771812, 443.5033557 , 443.79194631, 444.06375839,\n",
              "        444.45302013, 444.9261745 ]),\n",
              " array([2740.7197874 , 2742.68005946, 2742.57195622, 2745.49195982,\n",
              "        2740.3341854 , 2731.46475384, 2720.7016801 , 2712.31472681,\n",
              "        2715.22765866, 2724.51132832]),\n",
              " 10)"
            ]
          },
          "metadata": {
            "tags": []
          },
          "execution_count": 497
        }
      ]
    },
    {
      "cell_type": "code",
      "metadata": {
        "colab": {
          "base_uri": "https://localhost:8080/"
        },
        "id": "KJF3OrHrwZoX",
        "outputId": "eb617185-d25f-4cad-9c87-f6d1b4ef797d"
      },
      "source": [
        "new_X_train.shape"
      ],
      "execution_count": 498,
      "outputs": [
        {
          "output_type": "execute_result",
          "data": {
            "text/plain": [
              "(298, 10)"
            ]
          },
          "metadata": {
            "tags": []
          },
          "execution_count": 498
        }
      ]
    },
    {
      "cell_type": "code",
      "metadata": {
        "id": "1kgYlnaRwc5y"
      },
      "source": [
        "new_X_train = new_X_train.reshape((new_X_train.shape[0],new_X_train.shape[1],1))"
      ],
      "execution_count": 499,
      "outputs": []
    },
    {
      "cell_type": "code",
      "metadata": {
        "colab": {
          "base_uri": "https://localhost:8080/"
        },
        "id": "lYdCtXFxv-mI",
        "outputId": "17f59925-09e9-44dd-d22a-3a38e8b558e6"
      },
      "source": [
        "history = lstm_model.fit(new_X_train,new_y_train,epochs=100)"
      ],
      "execution_count": 500,
      "outputs": [
        {
          "output_type": "stream",
          "text": [
            "Epoch 1/100\n",
            "10/10 [==============================] - 3s 63ms/step - loss: 204190.0483\n",
            "Epoch 2/100\n",
            "10/10 [==============================] - 1s 51ms/step - loss: 205385.1477\n",
            "Epoch 3/100\n",
            "10/10 [==============================] - 1s 52ms/step - loss: 140205.6023\n",
            "Epoch 4/100\n",
            "10/10 [==============================] - 1s 52ms/step - loss: 131088.1747\n",
            "Epoch 5/100\n",
            "10/10 [==============================] - 1s 57ms/step - loss: 125193.8068\n",
            "Epoch 6/100\n",
            "10/10 [==============================] - 1s 55ms/step - loss: 76337.0618\n",
            "Epoch 7/100\n",
            "10/10 [==============================] - 1s 51ms/step - loss: 30928.1994\n",
            "Epoch 8/100\n",
            "10/10 [==============================] - 0s 49ms/step - loss: 16139.9956\n",
            "Epoch 9/100\n",
            "10/10 [==============================] - 1s 55ms/step - loss: 9054.8896\n",
            "Epoch 10/100\n",
            "10/10 [==============================] - 1s 52ms/step - loss: 7011.7785\n",
            "Epoch 11/100\n",
            "10/10 [==============================] - 1s 54ms/step - loss: 5841.9390\n",
            "Epoch 12/100\n",
            "10/10 [==============================] - 1s 52ms/step - loss: 6888.0946\n",
            "Epoch 13/100\n",
            "10/10 [==============================] - 0s 48ms/step - loss: 5963.2419\n",
            "Epoch 14/100\n",
            "10/10 [==============================] - 0s 47ms/step - loss: 6456.8665\n",
            "Epoch 15/100\n",
            "10/10 [==============================] - 1s 55ms/step - loss: 4458.2444\n",
            "Epoch 16/100\n",
            "10/10 [==============================] - 1s 60ms/step - loss: 5276.4359\n",
            "Epoch 17/100\n",
            "10/10 [==============================] - 1s 57ms/step - loss: 4346.9385\n",
            "Epoch 18/100\n",
            "10/10 [==============================] - 1s 52ms/step - loss: 4438.1556\n",
            "Epoch 19/100\n",
            "10/10 [==============================] - 1s 62ms/step - loss: 3952.4816\n",
            "Epoch 20/100\n",
            "10/10 [==============================] - 1s 52ms/step - loss: 3828.2628\n",
            "Epoch 21/100\n",
            "10/10 [==============================] - 1s 54ms/step - loss: 4370.1140\n",
            "Epoch 22/100\n",
            "10/10 [==============================] - 0s 49ms/step - loss: 4951.0664\n",
            "Epoch 23/100\n",
            "10/10 [==============================] - 1s 55ms/step - loss: 4582.4605\n",
            "Epoch 24/100\n",
            "10/10 [==============================] - 0s 49ms/step - loss: 3791.6131\n",
            "Epoch 25/100\n",
            "10/10 [==============================] - 1s 51ms/step - loss: 3745.6479\n",
            "Epoch 26/100\n",
            "10/10 [==============================] - 1s 53ms/step - loss: 3764.1485\n",
            "Epoch 27/100\n",
            "10/10 [==============================] - 1s 51ms/step - loss: 3627.4912\n",
            "Epoch 28/100\n",
            "10/10 [==============================] - 1s 62ms/step - loss: 4680.7658\n",
            "Epoch 29/100\n",
            "10/10 [==============================] - 1s 53ms/step - loss: 4235.0107\n",
            "Epoch 30/100\n",
            "10/10 [==============================] - 1s 57ms/step - loss: 4375.6866\n",
            "Epoch 31/100\n",
            "10/10 [==============================] - 1s 56ms/step - loss: 2915.1564\n",
            "Epoch 32/100\n",
            "10/10 [==============================] - 1s 53ms/step - loss: 3998.3132\n",
            "Epoch 33/100\n",
            "10/10 [==============================] - 1s 54ms/step - loss: 3970.0402\n",
            "Epoch 34/100\n",
            "10/10 [==============================] - 1s 54ms/step - loss: 3530.6261\n",
            "Epoch 35/100\n",
            "10/10 [==============================] - 1s 50ms/step - loss: 3098.4817\n",
            "Epoch 36/100\n",
            "10/10 [==============================] - 1s 55ms/step - loss: 3738.1312\n",
            "Epoch 37/100\n",
            "10/10 [==============================] - 1s 58ms/step - loss: 4491.0818\n",
            "Epoch 38/100\n",
            "10/10 [==============================] - 1s 53ms/step - loss: 4149.5882\n",
            "Epoch 39/100\n",
            "10/10 [==============================] - 1s 55ms/step - loss: 4208.2672\n",
            "Epoch 40/100\n",
            "10/10 [==============================] - 1s 50ms/step - loss: 3709.4712\n",
            "Epoch 41/100\n",
            "10/10 [==============================] - 1s 50ms/step - loss: 4505.3153\n",
            "Epoch 42/100\n",
            "10/10 [==============================] - 1s 57ms/step - loss: 3487.9617\n",
            "Epoch 43/100\n",
            "10/10 [==============================] - 1s 58ms/step - loss: 2984.2120\n",
            "Epoch 44/100\n",
            "10/10 [==============================] - 1s 53ms/step - loss: 3480.1012\n",
            "Epoch 45/100\n",
            "10/10 [==============================] - 0s 50ms/step - loss: 4087.4621\n",
            "Epoch 46/100\n",
            "10/10 [==============================] - 1s 51ms/step - loss: 3711.6413\n",
            "Epoch 47/100\n",
            "10/10 [==============================] - 0s 49ms/step - loss: 3875.7485\n",
            "Epoch 48/100\n",
            "10/10 [==============================] - 1s 55ms/step - loss: 4539.6383\n",
            "Epoch 49/100\n",
            "10/10 [==============================] - 1s 52ms/step - loss: 3584.4432\n",
            "Epoch 50/100\n",
            "10/10 [==============================] - 1s 52ms/step - loss: 3980.9908\n",
            "Epoch 51/100\n",
            "10/10 [==============================] - 1s 53ms/step - loss: 3080.2022\n",
            "Epoch 52/100\n",
            "10/10 [==============================] - 1s 49ms/step - loss: 3492.7964\n",
            "Epoch 53/100\n",
            "10/10 [==============================] - 1s 50ms/step - loss: 3746.3777\n",
            "Epoch 54/100\n",
            "10/10 [==============================] - 1s 54ms/step - loss: 3637.7161\n",
            "Epoch 55/100\n",
            "10/10 [==============================] - 1s 60ms/step - loss: 3086.0045\n",
            "Epoch 56/100\n",
            "10/10 [==============================] - 1s 52ms/step - loss: 3179.9313\n",
            "Epoch 57/100\n",
            "10/10 [==============================] - 1s 54ms/step - loss: 3863.9650\n",
            "Epoch 58/100\n",
            "10/10 [==============================] - 1s 52ms/step - loss: 3810.2802\n",
            "Epoch 59/100\n",
            "10/10 [==============================] - 0s 50ms/step - loss: 3201.4053\n",
            "Epoch 60/100\n",
            "10/10 [==============================] - 0s 50ms/step - loss: 3730.4380\n",
            "Epoch 61/100\n",
            "10/10 [==============================] - 1s 56ms/step - loss: 3016.9623\n",
            "Epoch 62/100\n",
            "10/10 [==============================] - 0s 48ms/step - loss: 3400.1907\n",
            "Epoch 63/100\n",
            "10/10 [==============================] - 1s 53ms/step - loss: 3670.7244\n",
            "Epoch 64/100\n",
            "10/10 [==============================] - 0s 48ms/step - loss: 4042.8615\n",
            "Epoch 65/100\n",
            "10/10 [==============================] - 1s 53ms/step - loss: 3955.3492\n",
            "Epoch 66/100\n",
            "10/10 [==============================] - 1s 51ms/step - loss: 3846.9988\n",
            "Epoch 67/100\n",
            "10/10 [==============================] - 1s 50ms/step - loss: 3600.2133\n",
            "Epoch 68/100\n",
            "10/10 [==============================] - 1s 50ms/step - loss: 3099.1661\n",
            "Epoch 69/100\n",
            "10/10 [==============================] - 1s 50ms/step - loss: 3611.4320\n",
            "Epoch 70/100\n",
            "10/10 [==============================] - 1s 52ms/step - loss: 3367.4456\n",
            "Epoch 71/100\n",
            "10/10 [==============================] - 1s 56ms/step - loss: 3575.4295\n",
            "Epoch 72/100\n",
            "10/10 [==============================] - 1s 52ms/step - loss: 3557.9172\n",
            "Epoch 73/100\n",
            "10/10 [==============================] - 1s 53ms/step - loss: 3310.6368\n",
            "Epoch 74/100\n",
            "10/10 [==============================] - 0s 50ms/step - loss: 2823.5161\n",
            "Epoch 75/100\n",
            "10/10 [==============================] - 1s 51ms/step - loss: 2812.7214\n",
            "Epoch 76/100\n",
            "10/10 [==============================] - 1s 53ms/step - loss: 2999.7686\n",
            "Epoch 77/100\n",
            "10/10 [==============================] - 1s 50ms/step - loss: 3537.7222\n",
            "Epoch 78/100\n",
            "10/10 [==============================] - 0s 50ms/step - loss: 3385.4784\n",
            "Epoch 79/100\n",
            "10/10 [==============================] - 1s 53ms/step - loss: 2753.3950\n",
            "Epoch 80/100\n",
            "10/10 [==============================] - 1s 50ms/step - loss: 2483.3864\n",
            "Epoch 81/100\n",
            "10/10 [==============================] - 1s 59ms/step - loss: 2696.0928\n",
            "Epoch 82/100\n",
            "10/10 [==============================] - 1s 50ms/step - loss: 2740.8390\n",
            "Epoch 83/100\n",
            "10/10 [==============================] - 1s 52ms/step - loss: 2820.1298\n",
            "Epoch 84/100\n",
            "10/10 [==============================] - 0s 49ms/step - loss: 2282.6090\n",
            "Epoch 85/100\n",
            "10/10 [==============================] - 0s 50ms/step - loss: 3402.3536\n",
            "Epoch 86/100\n",
            "10/10 [==============================] - 0s 50ms/step - loss: 2769.0644\n",
            "Epoch 87/100\n",
            "10/10 [==============================] - 1s 50ms/step - loss: 3879.5392\n",
            "Epoch 88/100\n",
            "10/10 [==============================] - 1s 59ms/step - loss: 2557.2171\n",
            "Epoch 89/100\n",
            "10/10 [==============================] - 1s 50ms/step - loss: 2820.6995\n",
            "Epoch 90/100\n",
            "10/10 [==============================] - 1s 56ms/step - loss: 2563.0741\n",
            "Epoch 91/100\n",
            "10/10 [==============================] - 1s 51ms/step - loss: 3413.8221\n",
            "Epoch 92/100\n",
            "10/10 [==============================] - 1s 52ms/step - loss: 2493.1724\n",
            "Epoch 93/100\n",
            "10/10 [==============================] - 1s 53ms/step - loss: 2467.4951\n",
            "Epoch 94/100\n",
            "10/10 [==============================] - 1s 58ms/step - loss: 2873.3370\n",
            "Epoch 95/100\n",
            "10/10 [==============================] - 1s 54ms/step - loss: 2990.0597\n",
            "Epoch 96/100\n",
            "10/10 [==============================] - 0s 50ms/step - loss: 2746.7543\n",
            "Epoch 97/100\n",
            "10/10 [==============================] - 1s 52ms/step - loss: 2753.6872\n",
            "Epoch 98/100\n",
            "10/10 [==============================] - 1s 51ms/step - loss: 3281.4017\n",
            "Epoch 99/100\n",
            "10/10 [==============================] - 1s 51ms/step - loss: 2872.4105\n",
            "Epoch 100/100\n",
            "10/10 [==============================] - 1s 57ms/step - loss: 3215.8694\n"
          ],
          "name": "stdout"
        }
      ]
    },
    {
      "cell_type": "code",
      "metadata": {
        "id": "J0Rk-Sqhwcbs"
      },
      "source": [
        "def plot_history_loss(history):\n",
        "  plt.plot(history.history['loss'])\n",
        "  # plt.plot(history.history['val_loss'])\n",
        "  plt.title('model loss')\n",
        "  plt.ylabel('loss')\n",
        "  plt.xlabel('epoch')\n",
        "  plt.legend(['train'], loc='upper left')\n",
        "  plt.show()"
      ],
      "execution_count": 501,
      "outputs": []
    },
    {
      "cell_type": "code",
      "metadata": {
        "colab": {
          "base_uri": "https://localhost:8080/",
          "height": 295
        },
        "id": "VCs-KLRUxkxO",
        "outputId": "1f64909e-b2b0-4027-96ae-7626487aedc8"
      },
      "source": [
        "plot_history_loss(history)"
      ],
      "execution_count": 502,
      "outputs": [
        {
          "output_type": "display_data",
          "data": {
            "image/png": "[encoded data removed]",
            "text/plain": [
              "<Figure size 432x288 with 1 Axes>"
            ]
          },
          "metadata": {
            "tags": [],
            "needs_background": "light"
          }
        }
      ]
    },
    {
      "cell_type": "code",
      "metadata": {
        "id": "aPlWaIwExnON"
      },
      "source": [
        "def plot_data(y_pred,y_test,roll=roll):\n",
        "    plt.plot(df[(df['Date'].index>=train_length ) & (data.index<len(df)-roll)]['Date'],y_pred,label='Prediction')\n",
        "    plt.plot(df[(df['Date'].index>=train_length )]['Date'],y_test,label='Real')\n",
        "    # plt.plot(df['Date'],df['Close Price'],label=name)\n",
        "        \n",
        "    plt.title('Pred vs Real')\n",
        "    plt.xlabel(\"Date\")\n",
        "    plt.legend()\n",
        "    plt.ylabel(\"Closing Price\")\n",
        "\n",
        "    plt.show()"
      ],
      "execution_count": 503,
      "outputs": []
    },
    {
      "cell_type": "code",
      "metadata": {
        "colab": {
          "base_uri": "https://localhost:8080/"
        },
        "id": "getjeX9368uE",
        "outputId": "2cc0c504-3404-40c5-a492-7c659957df79"
      },
      "source": [
        "df[(df['Date'].index>=train_length ) & (df.index<len(df)-roll)]['Date']"
      ],
      "execution_count": 504,
      "outputs": [
        {
          "output_type": "execute_result",
          "data": {
            "text/plain": [
              "308   2020-07-05\n",
              "309   2020-07-06\n",
              "310   2020-07-07\n",
              "311   2020-07-08\n",
              "312   2020-07-09\n",
              "         ...    \n",
              "425   2020-12-27\n",
              "426   2020-12-28\n",
              "427   2020-12-29\n",
              "428   2020-12-30\n",
              "429   2020-12-31\n",
              "Name: Date, Length: 122, dtype: datetime64[ns]"
            ]
          },
          "metadata": {
            "tags": []
          },
          "execution_count": 504
        }
      ]
    },
    {
      "cell_type": "code",
      "metadata": {
        "id": "eZEb5PZDyImI"
      },
      "source": [
        "new_X_test, new_y_test = split_sequence(np.array(test_data),roll)\n",
        "new_X_test = scaler.transform(new_X_test)\n",
        "new_X_test = new_X_test.reshape((new_X_test.shape[0],new_X_test.shape[1],1))"
      ],
      "execution_count": 505,
      "outputs": []
    },
    {
      "cell_type": "code",
      "metadata": {
        "colab": {
          "base_uri": "https://localhost:8080/"
        },
        "id": "N4jUP1T9ymec",
        "outputId": "7465788f-2f3d-413c-999b-c77e9b322c7d"
      },
      "source": [
        "y_pred = lstm_model.predict(new_X_test)\n",
        "y_pred.shape"
      ],
      "execution_count": 506,
      "outputs": [
        {
          "output_type": "execute_result",
          "data": {
            "text/plain": [
              "(122, 1)"
            ]
          },
          "metadata": {
            "tags": []
          },
          "execution_count": 506
        }
      ]
    },
    {
      "cell_type": "code",
      "metadata": {
        "colab": {
          "base_uri": "https://localhost:8080/",
          "height": 295
        },
        "id": "77w-pJ0ry7Xm",
        "outputId": "5c534d46-ea44-4a49-bb2b-a25bef5d9382"
      },
      "source": [
        "plot_data(y_pred,test_data)"
      ],
      "execution_count": 507,
      "outputs": [
        {
          "output_type": "display_data",
          "data": {
            "image/png": "[encoded data removed]",
            "text/plain": [
              "<Figure size 432x288 with 1 Axes>"
            ]
          },
          "metadata": {
            "tags": [],
            "needs_background": "light"
          }
        }
      ]
    },
    {
      "cell_type": "code",
      "metadata": {
        "colab": {
          "base_uri": "https://localhost:8080/"
        },
        "id": "xNHPGeG6y_6V",
        "outputId": "ae7b2ea7-0c37-4af7-b7d2-100b62226dd5"
      },
      "source": [
        "y_pred,len(y_pred)"
      ],
      "execution_count": 508,
      "outputs": [
        {
          "output_type": "execute_result",
          "data": {
            "text/plain": [
              "(array([[527.6934 ],\n",
              "        [532.42194],\n",
              "        [543.7214 ],\n",
              "        [562.2732 ],\n",
              "        [584.2176 ],\n",
              "        [593.1343 ],\n",
              "        [586.46265],\n",
              "        [575.06744],\n",
              "        [563.75616],\n",
              "        [559.05597],\n",
              "        [568.7831 ],\n",
              "        [565.8208 ],\n",
              "        [562.58484],\n",
              "        [557.6922 ],\n",
              "        [552.02747],\n",
              "        [548.53235],\n",
              "        [546.36847],\n",
              "        [547.6057 ],\n",
              "        [549.2188 ],\n",
              "        [555.1825 ],\n",
              "        [563.2148 ],\n",
              "        [568.87555],\n",
              "        [569.672  ],\n",
              "        [566.8942 ],\n",
              "        [560.643  ],\n",
              "        [556.63794],\n",
              "        [554.79785],\n",
              "        [553.0494 ],\n",
              "        [554.41223],\n",
              "        [559.43036],\n",
              "        [565.0479 ],\n",
              "        [570.8424 ],\n",
              "        [573.8862 ],\n",
              "        [572.8843 ],\n",
              "        [569.98846],\n",
              "        [569.8409 ],\n",
              "        [570.46576],\n",
              "        [569.467  ],\n",
              "        [566.24   ],\n",
              "        [561.1914 ],\n",
              "        [558.3942 ],\n",
              "        [559.64343],\n",
              "        [562.0629 ],\n",
              "        [566.40027],\n",
              "        [568.2873 ],\n",
              "        [566.9469 ],\n",
              "        [566.0592 ],\n",
              "        [566.71027],\n",
              "        [567.71533],\n",
              "        [566.92676],\n",
              "        [563.6209 ],\n",
              "        [560.4088 ],\n",
              "        [560.2492 ],\n",
              "        [561.5817 ],\n",
              "        [562.6212 ],\n",
              "        [561.428  ],\n",
              "        [560.56915],\n",
              "        [562.01135],\n",
              "        [563.7754 ],\n",
              "        [564.0152 ],\n",
              "        [563.02625],\n",
              "        [561.3635 ],\n",
              "        [560.8238 ],\n",
              "        [562.0795 ],\n",
              "        [564.27106],\n",
              "        [565.1971 ],\n",
              "        [564.9365 ],\n",
              "        [563.7731 ],\n",
              "        [562.299  ],\n",
              "        [563.6552 ],\n",
              "        [569.2058 ],\n",
              "        [576.9363 ],\n",
              "        [582.4716 ],\n",
              "        [584.33093],\n",
              "        [582.8732 ],\n",
              "        [578.6773 ],\n",
              "        [577.165  ],\n",
              "        [575.3083 ],\n",
              "        [577.5775 ],\n",
              "        [578.70184],\n",
              "        [579.7749 ],\n",
              "        [579.7596 ],\n",
              "        [583.5822 ],\n",
              "        [589.4036 ],\n",
              "        [594.62976],\n",
              "        [598.907  ],\n",
              "        [598.71204],\n",
              "        [598.23004],\n",
              "        [601.81055],\n",
              "        [597.0927 ],\n",
              "        [594.94196],\n",
              "        [591.426  ],\n",
              "        [601.0534 ],\n",
              "        [606.63495],\n",
              "        [608.5901 ],\n",
              "        [587.15405],\n",
              "        [582.65717],\n",
              "        [591.0158 ],\n",
              "        [584.4046 ],\n",
              "        [579.21466],\n",
              "        [586.50323],\n",
              "        [587.9596 ],\n",
              "        [592.1478 ],\n",
              "        [603.0987 ],\n",
              "        [603.3519 ],\n",
              "        [598.69495],\n",
              "        [605.02   ],\n",
              "        [627.3212 ],\n",
              "        [645.77716],\n",
              "        [653.68915],\n",
              "        [653.5621 ],\n",
              "        [656.2339 ],\n",
              "        [670.80493],\n",
              "        [707.34357],\n",
              "        [735.9633 ],\n",
              "        [739.55383],\n",
              "        [733.72864],\n",
              "        [734.3417 ],\n",
              "        [750.3255 ],\n",
              "        [749.30273],\n",
              "        [761.90625],\n",
              "        [769.95935]], dtype=float32), 122)"
            ]
          },
          "metadata": {
            "tags": []
          },
          "execution_count": 508
        }
      ]
    },
    {
      "cell_type": "code",
      "metadata": {
        "colab": {
          "base_uri": "https://localhost:8080/",
          "height": 283
        },
        "id": "cWiLCE-_zpJI",
        "outputId": "56c55aaf-5e84-4b0c-de3b-50efe5db9f5a"
      },
      "source": [
        "plt.plot(y_test)"
      ],
      "execution_count": 509,
      "outputs": [
        {
          "output_type": "execute_result",
          "data": {
            "text/plain": [
              "[<matplotlib.lines.Line2D at 0x7fdce23b7898>]"
            ]
          },
          "metadata": {
            "tags": []
          },
          "execution_count": 509
        },
        {
          "output_type": "display_data",
          "data": {
            "image/png": "[encoded data removed]",
            "text/plain": [
              "<Figure size 432x288 with 1 Axes>"
            ]
          },
          "metadata": {
            "tags": [],
            "needs_background": "light"
          }
        }
      ]
    },
    {
      "cell_type": "code",
      "metadata": {
        "colab": {
          "base_uri": "https://localhost:8080/",
          "height": 283
        },
        "id": "ROuRTsEp577-",
        "outputId": "24e49eea-b2c7-477f-f8e7-6afbec0b9271"
      },
      "source": [
        "plt.plot(test_data)"
      ],
      "execution_count": 510,
      "outputs": [
        {
          "output_type": "execute_result",
          "data": {
            "text/plain": [
              "[<matplotlib.lines.Line2D at 0x7fdcdf2be710>]"
            ]
          },
          "metadata": {
            "tags": []
          },
          "execution_count": 510
        },
        {
          "output_type": "display_data",
          "data": {
            "image/png": "[encoded data removed]",
            "text/plain": [
              "<Figure size 432x288 with 1 Axes>"
            ]
          },
          "metadata": {
            "tags": [],
            "needs_background": "light"
          }
        }
      ]
    },
    {
      "cell_type": "code",
      "metadata": {
        "colab": {
          "base_uri": "https://localhost:8080/"
        },
        "id": "3mgJIoty6D4O",
        "outputId": "30c4788a-20a7-44cb-97f7-f498bd347b69"
      },
      "source": [
        "lstm_model.evaluate(new_X_test,y_pred)"
      ],
      "execution_count": 511,
      "outputs": [
        {
          "output_type": "stream",
          "text": [
            "4/4 [==============================] - 0s 8ms/step - loss: 0.0000e+00\n"
          ],
          "name": "stdout"
        },
        {
          "output_type": "execute_result",
          "data": {
            "text/plain": [
              "0.0"
            ]
          },
          "metadata": {
            "tags": []
          },
          "execution_count": 511
        }
      ]
    },
    {
      "cell_type": "code",
      "metadata": {
        "id": "ACymIrpe6UEB"
      },
      "source": [
        "\n",
        "prices_nic = [875.00,\n",
        "893.00,\n",
        "900.00,\n",
        "907.00,\n",
        "885.00,\n",
        "887.00,\n",
        "889.00,\n",
        "900.00,\n",
        "906.00,\n",
        "901.00,\n",
        "912.00,\n",
        "918.00,\n",
        "915.00,\n",
        "927.00,\n",
        "908.00,\n",
        "892.00,\n",
        "883.00,\n",
        "892.00,\n",
        "899.00,\n",
        "882.00]\n",
        "prices_nic = prices_nic[::-1]"
      ],
      "execution_count": 516,
      "outputs": []
    },
    {
      "cell_type": "code",
      "metadata": {
        "colab": {
          "base_uri": "https://localhost:8080/"
        },
        "id": "tU1w84M29mFN",
        "outputId": "c8bb7189-fcce-4e71-8804-903c56faf3fb"
      },
      "source": [
        "prices_nic"
      ],
      "execution_count": 517,
      "outputs": [
        {
          "output_type": "execute_result",
          "data": {
            "text/plain": [
              "[882.0,\n",
              " 899.0,\n",
              " 892.0,\n",
              " 883.0,\n",
              " 892.0,\n",
              " 908.0,\n",
              " 927.0,\n",
              " 915.0,\n",
              " 918.0,\n",
              " 912.0,\n",
              " 901.0,\n",
              " 906.0,\n",
              " 900.0,\n",
              " 889.0,\n",
              " 887.0,\n",
              " 885.0,\n",
              " 907.0,\n",
              " 900.0,\n",
              " 893.0,\n",
              " 875.0]"
            ]
          },
          "metadata": {
            "tags": []
          },
          "execution_count": 517
        }
      ]
    },
    {
      "cell_type": "code",
      "metadata": {
        "colab": {
          "base_uri": "https://localhost:8080/"
        },
        "id": "qhrSx_Bp9sAn",
        "outputId": "fb027ba0-7b9b-4c06-a5a5-e9755ba4a4c5"
      },
      "source": [
        "valX,valY = split_sequence(prices_nic,roll)\n",
        "valX.shape,valX"
      ],
      "execution_count": 518,
      "outputs": [
        {
          "output_type": "execute_result",
          "data": {
            "text/plain": [
              "((10, 10), array([[882., 899., 892., 883., 892., 908., 927., 915., 918., 912.],\n",
              "        [899., 892., 883., 892., 908., 927., 915., 918., 912., 901.],\n",
              "        [892., 883., 892., 908., 927., 915., 918., 912., 901., 906.],\n",
              "        [883., 892., 908., 927., 915., 918., 912., 901., 906., 900.],\n",
              "        [892., 908., 927., 915., 918., 912., 901., 906., 900., 889.],\n",
              "        [908., 927., 915., 918., 912., 901., 906., 900., 889., 887.],\n",
              "        [927., 915., 918., 912., 901., 906., 900., 889., 887., 885.],\n",
              "        [915., 918., 912., 901., 906., 900., 889., 887., 885., 907.],\n",
              "        [918., 912., 901., 906., 900., 889., 887., 885., 907., 900.],\n",
              "        [912., 901., 906., 900., 889., 887., 885., 907., 900., 893.]]))"
            ]
          },
          "metadata": {
            "tags": []
          },
          "execution_count": 518
        }
      ]
    },
    {
      "cell_type": "code",
      "metadata": {
        "colab": {
          "base_uri": "https://localhost:8080/"
        },
        "id": "P9guFooH9-h9",
        "outputId": "a70aebdc-6b96-46a0-e7d2-07e2d54d64c0"
      },
      "source": [
        "valY"
      ],
      "execution_count": 519,
      "outputs": [
        {
          "output_type": "execute_result",
          "data": {
            "text/plain": [
              "array([901., 906., 900., 889., 887., 885., 907., 900., 893., 875.])"
            ]
          },
          "metadata": {
            "tags": []
          },
          "execution_count": 519
        }
      ]
    },
    {
      "cell_type": "code",
      "metadata": {
        "id": "vxHkkov2-JXi"
      },
      "source": [
        "\n",
        "valX = scaler.transform(valX)\n",
        "valX = valX.reshape((valX.shape[0],valX.shape[1],1))"
      ],
      "execution_count": 520,
      "outputs": []
    },
    {
      "cell_type": "code",
      "metadata": {
        "colab": {
          "base_uri": "https://localhost:8080/"
        },
        "id": "p72wkRXj-B8U",
        "outputId": "f7ad8f55-23e8-45c6-872d-6aee61a0a5e9"
      },
      "source": [
        "yhat = lstm_model.predict(valX)\n",
        "yhat"
      ],
      "execution_count": 522,
      "outputs": [
        {
          "output_type": "execute_result",
          "data": {
            "text/plain": [
              "array([[769.95935],\n",
              "       [777.6843 ],\n",
              "       [775.97485],\n",
              "       [772.79266],\n",
              "       [776.53906],\n",
              "       [781.4701 ],\n",
              "       [784.84326],\n",
              "       [779.4056 ],\n",
              "       [778.4907 ],\n",
              "       [774.8883 ]], dtype=float32)"
            ]
          },
          "metadata": {
            "tags": []
          },
          "execution_count": 522
        }
      ]
    },
    {
      "cell_type": "code",
      "metadata": {
        "colab": {
          "base_uri": "https://localhost:8080/",
          "height": 283
        },
        "id": "kc0zauEd-aZV",
        "outputId": "67a2b250-68ac-4c84-acdf-5c313a76bbfe"
      },
      "source": [
        "plt.plot(yhat)\n",
        "plt.plot(valY)"
      ],
      "execution_count": 524,
      "outputs": [
        {
          "output_type": "execute_result",
          "data": {
            "text/plain": [
              "[<matplotlib.lines.Line2D at 0x7fdce233f2e8>]"
            ]
          },
          "metadata": {
            "tags": []
          },
          "execution_count": 524
        },
        {
          "output_type": "display_data",
          "data": {
            "image/png": "[encoded data removed]",
            "text/plain": [
              "<Figure size 432x288 with 1 Axes>"
            ]
          },
          "metadata": {
            "tags": [],
            "needs_background": "light"
          }
        }
      ]
    },
    {
      "cell_type": "code",
      "metadata": {
        "id": "lnrJUgJB-grB"
      },
      "source": [
        ""
      ],
      "execution_count": null,
      "outputs": []
    }
  ]
}